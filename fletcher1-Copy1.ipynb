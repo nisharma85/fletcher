{
 "cells": [
  {
   "cell_type": "code",
   "execution_count": 1,
   "metadata": {
    "collapsed": false
   },
   "outputs": [],
   "source": [
    "import nltk\n",
    "import pandas as pd\n",
    "from textblob import TextBlob\n",
    "import logging\n",
    "from gensim import corpora, models, similarities\n",
    "from pprint import pprint\n",
    "from sklearn.feature_extraction.text import CountVectorizer\n",
    "import numpy as np\n",
    "import pandas as pd\n",
    "from nltk.tokenize import sent_tokenize, word_tokenize\n",
    "import re\n",
    "import os\n",
    "import codecs\n",
    "from sklearn import feature_extraction\n",
    "import mpld3\n",
    "import lda\n",
    "pd.set_option('display.max_colwidth', 500)"
   ]
  },
  {
   "cell_type": "code",
   "execution_count": 2,
   "metadata": {
    "collapsed": false
   },
   "outputs": [
    {
     "name": "stderr",
     "output_type": "stream",
     "text": [
      "/Users/shani16/anaconda/lib/python2.7/site-packages/IPython/core/interactiveshell.py:2902: DtypeWarning: Columns (5,7,10,11,13,14,15,16,17,22,24,25,26,27,29,32,33,34,35,36,39,40,41,44,45,57,58,61,68,77,78,79,80,82,107,108,144,145,146,147,154,155,156,157,158,160,161,162,163,164,166,168,171,173,174,175,176,177,179) have mixed types. Specify dtype option on import or set low_memory=False.\n",
      "  interactivity=interactivity, compiler=compiler, result=result)\n"
     ]
    }
   ],
   "source": [
    "ltr=pd.read_csv('/Users/shani16/fletcher/data/ltr2.csv')"
   ]
  },
  {
   "cell_type": "code",
   "execution_count": 3,
   "metadata": {
    "collapsed": false
   },
   "outputs": [],
   "source": [
    "ltr.loc[ltr['Translation to English for: LTR Comment'].isnull(),'Translation to English for: LTR Comment'] = ltr['LTR Comment']"
   ]
  },
  {
   "cell_type": "code",
   "execution_count": 4,
   "metadata": {
    "collapsed": false
   },
   "outputs": [],
   "source": [
    "ltr=ltr[(ltr['Survey Type'] == \"Insights\")]\n",
    "det= ltr[(ltr['LTR'] <= 6)]\n",
    "df=det[['email', 'Translation to English for: LTR Comment']]\n",
    "df.columns=['email', 'comment']\n",
    "df=pd.DataFrame(df.dropna())"
   ]
  },
  {
   "cell_type": "code",
   "execution_count": 5,
   "metadata": {
    "collapsed": false
   },
   "outputs": [
    {
     "data": {
      "text/html": [
       "<div>\n",
       "<table border=\"1\" class=\"dataframe\">\n",
       "  <thead>\n",
       "    <tr style=\"text-align: right;\">\n",
       "      <th></th>\n",
       "      <th>email</th>\n",
       "      <th>comment</th>\n",
       "    </tr>\n",
       "  </thead>\n",
       "  <tbody>\n",
       "    <tr>\n",
       "      <th>0</th>\n",
       "      <td>mban@bpba.com.ar</td>\n",
       "      <td>I would be interested they can solucuonar inconvenience or problems faster.</td>\n",
       "    </tr>\n",
       "    <tr>\n",
       "      <th>6</th>\n",
       "      <td>simone.barbosa@lojasrenner.com.br</td>\n",
       "      <td>Meet as soon as the so-called demands. Improve the product as is requested via requests. Improving product performance.</td>\n",
       "    </tr>\n",
       "    <tr>\n",
       "      <th>8</th>\n",
       "      <td>mdunn@wellington.com</td>\n",
       "      <td>It has been a very unsatisfactory experience with CA with regard to the cancelation of our hosting agreement for Clarity.</td>\n",
       "    </tr>\n",
       "    <tr>\n",
       "      <th>9</th>\n",
       "      <td>andre_doles@gap.com</td>\n",
       "      <td>Not leave your customers hanging when they need you.</td>\n",
       "    </tr>\n",
       "    <tr>\n",
       "      <th>10</th>\n",
       "      <td>cecilia.shea@sabic-ip.com</td>\n",
       "      <td>Contract Management, strategic planning &amp; regular customer engagement.</td>\n",
       "    </tr>\n",
       "  </tbody>\n",
       "</table>\n",
       "</div>"
      ],
      "text/plain": [
       "                                email  \\\n",
       "0                    mban@bpba.com.ar   \n",
       "6   simone.barbosa@lojasrenner.com.br   \n",
       "8                mdunn@wellington.com   \n",
       "9                 andre_doles@gap.com   \n",
       "10          cecilia.shea@sabic-ip.com   \n",
       "\n",
       "                                                                                                                      comment  \n",
       "0                                                 I would be interested they can solucuonar inconvenience or problems faster.  \n",
       "6     Meet as soon as the so-called demands. Improve the product as is requested via requests. Improving product performance.  \n",
       "8   It has been a very unsatisfactory experience with CA with regard to the cancelation of our hosting agreement for Clarity.  \n",
       "9                                                                        Not leave your customers hanging when they need you.  \n",
       "10                                                     Contract Management, strategic planning & regular customer engagement.  "
      ]
     },
     "execution_count": 5,
     "metadata": {},
     "output_type": "execute_result"
    }
   ],
   "source": [
    "df.head()"
   ]
  },
  {
   "cell_type": "code",
   "execution_count": 6,
   "metadata": {
    "collapsed": false
   },
   "outputs": [],
   "source": [
    "df1=df"
   ]
  },
  {
   "cell_type": "code",
   "execution_count": 7,
   "metadata": {
    "collapsed": false
   },
   "outputs": [],
   "source": [
    "df1=df1.replace({'\\r': ' '}, regex=True)\n",
    "df1=df1.replace({'\\xff': ' '}, regex=True)\n",
    "df1=df1.replace({'\\xfa': ' '}, regex=True)\n",
    "df1=df1.replace({'\\x84': ' '}, regex=True)\n",
    "df1=df1.replace({'\\x94': ' '}, regex=True)\n",
    "df1=df1.replace({'\\x87': ' '}, regex=True)\n",
    "df1=df1.replace({'\\xc60': ' '}, regex=True)\n",
    "df1=df1.replace({'\\xa2lio': ' '}, regex=True)\n",
    "df1=df1.replace({'\\xc6o': ' '}, regex=True)\n",
    "# df2=df1.comment.tolist()\n",
    "# tok=[nltk.sent_tokenize(s) for s in df2]"
   ]
  },
  {
   "cell_type": "code",
   "execution_count": 8,
   "metadata": {
    "collapsed": false
   },
   "outputs": [
    {
     "data": {
      "text/html": [
       "<div>\n",
       "<table border=\"1\" class=\"dataframe\">\n",
       "  <thead>\n",
       "    <tr style=\"text-align: right;\">\n",
       "      <th></th>\n",
       "      <th>email</th>\n",
       "      <th>comment</th>\n",
       "    </tr>\n",
       "  </thead>\n",
       "  <tbody>\n",
       "    <tr>\n",
       "      <th>0</th>\n",
       "      <td>mban@bpba.com.ar</td>\n",
       "      <td>I would be interested they can solucuonar inconvenience or problems faster.</td>\n",
       "    </tr>\n",
       "    <tr>\n",
       "      <th>6</th>\n",
       "      <td>simone.barbosa@lojasrenner.com.br</td>\n",
       "      <td>Meet as soon as the so-called demands. Improve the product as is requested via requests. Improving product performance.</td>\n",
       "    </tr>\n",
       "    <tr>\n",
       "      <th>8</th>\n",
       "      <td>mdunn@wellington.com</td>\n",
       "      <td>It has been a very unsatisfactory experience with CA with regard to the cancelation of our hosting agreement for Clarity.</td>\n",
       "    </tr>\n",
       "    <tr>\n",
       "      <th>9</th>\n",
       "      <td>andre_doles@gap.com</td>\n",
       "      <td>Not leave your customers hanging when they need you.</td>\n",
       "    </tr>\n",
       "    <tr>\n",
       "      <th>10</th>\n",
       "      <td>cecilia.shea@sabic-ip.com</td>\n",
       "      <td>Contract Management, strategic planning &amp; regular customer engagement.</td>\n",
       "    </tr>\n",
       "  </tbody>\n",
       "</table>\n",
       "</div>"
      ],
      "text/plain": [
       "                                email  \\\n",
       "0                    mban@bpba.com.ar   \n",
       "6   simone.barbosa@lojasrenner.com.br   \n",
       "8                mdunn@wellington.com   \n",
       "9                 andre_doles@gap.com   \n",
       "10          cecilia.shea@sabic-ip.com   \n",
       "\n",
       "                                                                                                                      comment  \n",
       "0                                                 I would be interested they can solucuonar inconvenience or problems faster.  \n",
       "6     Meet as soon as the so-called demands. Improve the product as is requested via requests. Improving product performance.  \n",
       "8   It has been a very unsatisfactory experience with CA with regard to the cancelation of our hosting agreement for Clarity.  \n",
       "9                                                                        Not leave your customers hanging when they need you.  \n",
       "10                                                     Contract Management, strategic planning & regular customer engagement.  "
      ]
     },
     "execution_count": 8,
     "metadata": {},
     "output_type": "execute_result"
    }
   ],
   "source": [
    "df1.head()"
   ]
  },
  {
   "cell_type": "code",
   "execution_count": 9,
   "metadata": {
    "collapsed": false
   },
   "outputs": [],
   "source": [
    "df1['token']=df1['comment'].apply(sent_tokenize)"
   ]
  },
  {
   "cell_type": "code",
   "execution_count": 10,
   "metadata": {
    "collapsed": false
   },
   "outputs": [
    {
     "data": {
      "text/html": [
       "<div>\n",
       "<table border=\"1\" class=\"dataframe\">\n",
       "  <thead>\n",
       "    <tr style=\"text-align: right;\">\n",
       "      <th></th>\n",
       "      <th>email</th>\n",
       "      <th>comment</th>\n",
       "      <th>token</th>\n",
       "    </tr>\n",
       "  </thead>\n",
       "  <tbody>\n",
       "    <tr>\n",
       "      <th>0</th>\n",
       "      <td>mban@bpba.com.ar</td>\n",
       "      <td>I would be interested they can solucuonar inconvenience or problems faster.</td>\n",
       "      <td>[I would be interested they can solucuonar inconvenience or problems faster.]</td>\n",
       "    </tr>\n",
       "    <tr>\n",
       "      <th>6</th>\n",
       "      <td>simone.barbosa@lojasrenner.com.br</td>\n",
       "      <td>Meet as soon as the so-called demands. Improve the product as is requested via requests. Improving product performance.</td>\n",
       "      <td>[Meet as soon as the so-called demands., Improve the product as is requested via requests., Improving product performance.]</td>\n",
       "    </tr>\n",
       "    <tr>\n",
       "      <th>8</th>\n",
       "      <td>mdunn@wellington.com</td>\n",
       "      <td>It has been a very unsatisfactory experience with CA with regard to the cancelation of our hosting agreement for Clarity.</td>\n",
       "      <td>[It has been a very unsatisfactory experience with CA with regard to the cancelation of our hosting agreement for Clarity.]</td>\n",
       "    </tr>\n",
       "    <tr>\n",
       "      <th>9</th>\n",
       "      <td>andre_doles@gap.com</td>\n",
       "      <td>Not leave your customers hanging when they need you.</td>\n",
       "      <td>[Not leave your customers hanging when they need you.]</td>\n",
       "    </tr>\n",
       "    <tr>\n",
       "      <th>10</th>\n",
       "      <td>cecilia.shea@sabic-ip.com</td>\n",
       "      <td>Contract Management, strategic planning &amp; regular customer engagement.</td>\n",
       "      <td>[Contract Management, strategic planning &amp; regular customer engagement.]</td>\n",
       "    </tr>\n",
       "  </tbody>\n",
       "</table>\n",
       "</div>"
      ],
      "text/plain": [
       "                                email  \\\n",
       "0                    mban@bpba.com.ar   \n",
       "6   simone.barbosa@lojasrenner.com.br   \n",
       "8                mdunn@wellington.com   \n",
       "9                 andre_doles@gap.com   \n",
       "10          cecilia.shea@sabic-ip.com   \n",
       "\n",
       "                                                                                                                      comment  \\\n",
       "0                                                 I would be interested they can solucuonar inconvenience or problems faster.   \n",
       "6     Meet as soon as the so-called demands. Improve the product as is requested via requests. Improving product performance.   \n",
       "8   It has been a very unsatisfactory experience with CA with regard to the cancelation of our hosting agreement for Clarity.   \n",
       "9                                                                        Not leave your customers hanging when they need you.   \n",
       "10                                                     Contract Management, strategic planning & regular customer engagement.   \n",
       "\n",
       "                                                                                                                          token  \n",
       "0                                                 [I would be interested they can solucuonar inconvenience or problems faster.]  \n",
       "6   [Meet as soon as the so-called demands., Improve the product as is requested via requests., Improving product performance.]  \n",
       "8   [It has been a very unsatisfactory experience with CA with regard to the cancelation of our hosting agreement for Clarity.]  \n",
       "9                                                                        [Not leave your customers hanging when they need you.]  \n",
       "10                                                     [Contract Management, strategic planning & regular customer engagement.]  "
      ]
     },
     "execution_count": 10,
     "metadata": {},
     "output_type": "execute_result"
    }
   ],
   "source": [
    "df1.head()"
   ]
  },
  {
   "cell_type": "code",
   "execution_count": 11,
   "metadata": {
    "collapsed": false
   },
   "outputs": [],
   "source": [
    "df_new = df1.groupby('email').token.apply(lambda x: pd.DataFrame(x.values[0])).reset_index().drop('level_1', axis = 1)\n",
    "df_new.columns = ['email','sentence']"
   ]
  },
  {
   "cell_type": "code",
   "execution_count": 12,
   "metadata": {
    "collapsed": false
   },
   "outputs": [],
   "source": [
    "stopwords = nltk.corpus.stopwords.words('english')\n",
    "stopwords += ['.', ',', '(', ')', \"'\", '\"', 'ca']\n",
    "stopwords += ['us', 'use', 'get', 'make', 'needs', 'need', 'customer','customers',\n",
    "              'would', 'get', 'like', '30', 'also', 'many', 'day'\n",
    "             '30', '1000', '10', '06', '100', '1000', '1000s', '11', '12', '13','14', '15', '18', '19', '1sr', '200',\n",
    "             '2005', '2009', '2011', '2012', '20126', '2014', '2015', 'vs', 'you', 'we', 'know', 'even', 'see', 'zuk', \n",
    "              'fen' , 'gartner', 'rules', 'cas', 'year', 'nothing', 'look', 'sure', 'solutions', 'better', 'sure' ,\n",
    "              'line', 'one','clear', 'companies', 'company', 'work', 'good', 'recommend', 'much', 'dont', 'new', \n",
    "              'technology', 'document', 'n/a']\n"
   ]
  },
  {
   "cell_type": "code",
   "execution_count": 13,
   "metadata": {
    "collapsed": false
   },
   "outputs": [],
   "source": [
    "# df_new['comment1']=pd.DataFrame(final_doc)"
   ]
  },
  {
   "cell_type": "code",
   "execution_count": 14,
   "metadata": {
    "collapsed": false
   },
   "outputs": [
    {
     "data": {
      "text/html": [
       "<div>\n",
       "<table border=\"1\" class=\"dataframe\">\n",
       "  <thead>\n",
       "    <tr style=\"text-align: right;\">\n",
       "      <th></th>\n",
       "      <th>email</th>\n",
       "      <th>sentence</th>\n",
       "    </tr>\n",
       "  </thead>\n",
       "  <tbody>\n",
       "    <tr>\n",
       "      <th>0</th>\n",
       "      <td>jmccullough3@csc.com</td>\n",
       "      <td>Better execution on production integration and ease of reporting</td>\n",
       "    </tr>\n",
       "    <tr>\n",
       "      <th>1</th>\n",
       "      <td>4254.jgodoy@bradesco.com.br</td>\n",
       "      <td>the report says that this questionnaire can answer it until 22/06, but is allowing me to continue to fill it - lowering prices of their solutions - reduce solution times of your technical support team through the Support Center (formal processes) - availa</td>\n",
       "    </tr>\n",
       "    <tr>\n",
       "      <th>2</th>\n",
       "      <td>Anandv78@gmail.com</td>\n",
       "      <td>We have been using the solution provided by  CA Technologies in a  critical function.</td>\n",
       "    </tr>\n",
       "    <tr>\n",
       "      <th>3</th>\n",
       "      <td>Anandv78@gmail.com</td>\n",
       "      <td>The one single area which requires immediate attention is to ensure overall improvement in support levels and timely response to organisational requirements.</td>\n",
       "    </tr>\n",
       "    <tr>\n",
       "      <th>4</th>\n",
       "      <td>Anandv78@gmail.com</td>\n",
       "      <td>Our experience has been very poor with prolonged resolutions for critical issues raised.</td>\n",
       "    </tr>\n",
       "  </tbody>\n",
       "</table>\n",
       "</div>"
      ],
      "text/plain": [
       "                         email  \\\n",
       "0         jmccullough3@csc.com   \n",
       "1  4254.jgodoy@bradesco.com.br   \n",
       "2           Anandv78@gmail.com   \n",
       "3           Anandv78@gmail.com   \n",
       "4           Anandv78@gmail.com   \n",
       "\n",
       "                                                                                                                                                                                                                                                          sentence  \n",
       "0                                                                                                                                                                                                 Better execution on production integration and ease of reporting  \n",
       "1  the report says that this questionnaire can answer it until 22/06, but is allowing me to continue to fill it - lowering prices of their solutions - reduce solution times of your technical support team through the Support Center (formal processes) - availa  \n",
       "2                                                                                                                                                                            We have been using the solution provided by  CA Technologies in a  critical function.  \n",
       "3                                                                                                    The one single area which requires immediate attention is to ensure overall improvement in support levels and timely response to organisational requirements.  \n",
       "4                                                                                                                                                                         Our experience has been very poor with prolonged resolutions for critical issues raised.  "
      ]
     },
     "execution_count": 14,
     "metadata": {},
     "output_type": "execute_result"
    }
   ],
   "source": [
    "df_new.head()"
   ]
  },
  {
   "cell_type": "code",
   "execution_count": 15,
   "metadata": {
    "collapsed": false
   },
   "outputs": [],
   "source": [
    "# stem1=df_new['sentence'].tolist()\n",
    "# tok=[nltk.word_tokenize(s) for s in stem1]\n",
    "\n",
    "from sklearn.feature_extraction.text import CountVectorizer\n",
    "count_vectorizer=CountVectorizer(stop_words=stopwords, ngram_range=(1,2))\n",
    "counts=count_vectorizer.fit_transform(df_new['sentence'])\n",
    "\n",
    "# "
   ]
  },
  {
   "cell_type": "code",
   "execution_count": 16,
   "metadata": {
    "collapsed": false
   },
   "outputs": [],
   "source": [
    "num_clusters = 50  # sp.unique(labels).shape[0]\n",
    "\n",
    "import nltk.stem\n",
    "english_stemmer = nltk.stem.SnowballStemmer('english')\n",
    "\n",
    "from sklearn.feature_extraction.text import TfidfVectorizer\n",
    "\n",
    "\n",
    "class StemmedTfidfVectorizer(TfidfVectorizer):\n",
    "\n",
    "    def build_analyzer(self):\n",
    "        analyzer = super(TfidfVectorizer, self).build_analyzer()\n",
    "        return lambda doc: (english_stemmer.stem(w) for w in analyzer(doc))\n",
    "\n",
    "vectorizer = StemmedTfidfVectorizer(min_df=10, max_df=0.5,\n",
    "                                    stop_words=stopwords, decode_error='ignore'\n",
    "                                    )\n",
    "vectorized = vectorizer.fit_transform(df_new.sentence)\n",
    "\n"
   ]
  },
  {
   "cell_type": "code",
   "execution_count": 17,
   "metadata": {
    "collapsed": false
   },
   "outputs": [
    {
     "data": {
      "text/html": [
       "<div>\n",
       "<table border=\"1\" class=\"dataframe\">\n",
       "  <thead>\n",
       "    <tr style=\"text-align: right;\">\n",
       "      <th></th>\n",
       "      <th>abil</th>\n",
       "      <th>abl</th>\n",
       "      <th>access</th>\n",
       "      <th>account</th>\n",
       "      <th>across</th>\n",
       "      <th>activ</th>\n",
       "      <th>actual</th>\n",
       "      <th>ad</th>\n",
       "      <th>adapt</th>\n",
       "      <th>addit</th>\n",
       "      <th>...</th>\n",
       "      <th>websit</th>\n",
       "      <th>week</th>\n",
       "      <th>well</th>\n",
       "      <th>weve</th>\n",
       "      <th>within</th>\n",
       "      <th>without</th>\n",
       "      <th>work</th>\n",
       "      <th>world</th>\n",
       "      <th>year</th>\n",
       "      <th>yet</th>\n",
       "    </tr>\n",
       "  </thead>\n",
       "  <tbody>\n",
       "    <tr>\n",
       "      <th>0</th>\n",
       "      <td>0</td>\n",
       "      <td>0</td>\n",
       "      <td>0</td>\n",
       "      <td>0</td>\n",
       "      <td>0</td>\n",
       "      <td>0</td>\n",
       "      <td>0</td>\n",
       "      <td>0</td>\n",
       "      <td>0</td>\n",
       "      <td>0</td>\n",
       "      <td>...</td>\n",
       "      <td>0</td>\n",
       "      <td>0</td>\n",
       "      <td>0</td>\n",
       "      <td>0</td>\n",
       "      <td>0</td>\n",
       "      <td>0</td>\n",
       "      <td>0</td>\n",
       "      <td>0</td>\n",
       "      <td>0</td>\n",
       "      <td>0</td>\n",
       "    </tr>\n",
       "  </tbody>\n",
       "</table>\n",
       "<p>1 rows × 479 columns</p>\n",
       "</div>"
      ],
      "text/plain": [
       "   abil  abl  access  account  across  activ  actual  ad  adapt  addit ...   \\\n",
       "0     0    0       0        0       0      0       0   0      0      0 ...    \n",
       "\n",
       "   websit  week  well  weve  within  without  work  world  year  yet  \n",
       "0       0     0     0     0       0        0     0      0     0    0  \n",
       "\n",
       "[1 rows x 479 columns]"
      ]
     },
     "execution_count": 17,
     "metadata": {},
     "output_type": "execute_result"
    }
   ],
   "source": [
    "feature= vectorized.toarray()\n",
    "feature_df = pd.DataFrame(feature, columns=vectorizer.get_feature_names())\n",
    "feature_df[:1]"
   ]
  },
  {
   "cell_type": "code",
   "execution_count": 18,
   "metadata": {
    "collapsed": false
   },
   "outputs": [],
   "source": [
    "from sklearn.feature_extraction.text import TfidfVectorizer\n",
    "count_vectorizer1=TfidfVectorizer(stop_words=stopwords, ngram_range=(1,2))\n",
    "counts1=count_vectorizer1.fit_transform(df_new['sentence'])"
   ]
  },
  {
   "cell_type": "code",
   "execution_count": 19,
   "metadata": {
    "collapsed": false
   },
   "outputs": [],
   "source": [
    "# feature= counts.toarray()\n",
    "# feature_df = pd.DataFrame(feature, columns=count_vectorizer.get_feature_names())\n",
    "# feature_df[:1]"
   ]
  },
  {
   "cell_type": "code",
   "execution_count": 20,
   "metadata": {
    "collapsed": false
   },
   "outputs": [
    {
     "name": "stderr",
     "output_type": "stream",
     "text": [
      "/Users/shani16/anaconda/lib/python2.7/site-packages/ipykernel/__main__.py:4: FutureWarning: sort(columns=....) is deprecated, use sort_values(by=.....)\n"
     ]
    },
    {
     "data": {
      "text/html": [
       "<div>\n",
       "<table border=\"1\" class=\"dataframe\">\n",
       "  <thead>\n",
       "    <tr style=\"text-align: right;\">\n",
       "      <th></th>\n",
       "      <th>word</th>\n",
       "      <th>freq</th>\n",
       "    </tr>\n",
       "  </thead>\n",
       "  <tbody>\n",
       "    <tr>\n",
       "      <th>321</th>\n",
       "      <td>product</td>\n",
       "      <td>226.619673</td>\n",
       "    </tr>\n",
       "    <tr>\n",
       "      <th>424</th>\n",
       "      <td>support</td>\n",
       "      <td>148.910369</td>\n",
       "    </tr>\n",
       "    <tr>\n",
       "      <th>204</th>\n",
       "      <td>improv</td>\n",
       "      <td>122.239533</td>\n",
       "    </tr>\n",
       "    <tr>\n",
       "      <th>379</th>\n",
       "      <td>servic</td>\n",
       "      <td>71.394032</td>\n",
       "    </tr>\n",
       "    <tr>\n",
       "      <th>316</th>\n",
       "      <td>price</td>\n",
       "      <td>60.549757</td>\n",
       "    </tr>\n",
       "    <tr>\n",
       "      <th>215</th>\n",
       "      <td>integr</td>\n",
       "      <td>59.364131</td>\n",
       "    </tr>\n",
       "    <tr>\n",
       "      <th>327</th>\n",
       "      <td>provid</td>\n",
       "      <td>58.706619</td>\n",
       "    </tr>\n",
       "    <tr>\n",
       "      <th>222</th>\n",
       "      <td>issu</td>\n",
       "      <td>58.017831</td>\n",
       "    </tr>\n",
       "    <tr>\n",
       "      <th>438</th>\n",
       "      <td>time</td>\n",
       "      <td>56.516459</td>\n",
       "    </tr>\n",
       "    <tr>\n",
       "      <th>443</th>\n",
       "      <td>tool</td>\n",
       "      <td>53.281590</td>\n",
       "    </tr>\n",
       "    <tr>\n",
       "      <th>257</th>\n",
       "      <td>manag</td>\n",
       "      <td>48.188429</td>\n",
       "    </tr>\n",
       "    <tr>\n",
       "      <th>397</th>\n",
       "      <td>softwar</td>\n",
       "      <td>47.743683</td>\n",
       "    </tr>\n",
       "    <tr>\n",
       "      <th>96</th>\n",
       "      <td>cost</td>\n",
       "      <td>47.026025</td>\n",
       "    </tr>\n",
       "    <tr>\n",
       "      <th>331</th>\n",
       "      <td>qualiti</td>\n",
       "      <td>44.926236</td>\n",
       "    </tr>\n",
       "    <tr>\n",
       "      <th>429</th>\n",
       "      <td>team</td>\n",
       "      <td>42.054419</td>\n",
       "    </tr>\n",
       "    <tr>\n",
       "      <th>201</th>\n",
       "      <td>implement</td>\n",
       "      <td>41.330291</td>\n",
       "    </tr>\n",
       "    <tr>\n",
       "      <th>178</th>\n",
       "      <td>function</td>\n",
       "      <td>39.736720</td>\n",
       "    </tr>\n",
       "    <tr>\n",
       "      <th>430</th>\n",
       "      <td>technic</td>\n",
       "      <td>39.700100</td>\n",
       "    </tr>\n",
       "    <tr>\n",
       "      <th>475</th>\n",
       "      <td>work</td>\n",
       "      <td>37.106150</td>\n",
       "    </tr>\n",
       "    <tr>\n",
       "      <th>53</th>\n",
       "      <td>busi</td>\n",
       "      <td>36.263529</td>\n",
       "    </tr>\n",
       "  </tbody>\n",
       "</table>\n",
       "</div>"
      ],
      "text/plain": [
       "          word        freq\n",
       "321    product  226.619673\n",
       "424    support  148.910369\n",
       "204     improv  122.239533\n",
       "379     servic   71.394032\n",
       "316      price   60.549757\n",
       "215     integr   59.364131\n",
       "327     provid   58.706619\n",
       "222       issu   58.017831\n",
       "438       time   56.516459\n",
       "443       tool   53.281590\n",
       "257      manag   48.188429\n",
       "397    softwar   47.743683\n",
       "96        cost   47.026025\n",
       "331    qualiti   44.926236\n",
       "429       team   42.054419\n",
       "201  implement   41.330291\n",
       "178   function   39.736720\n",
       "430    technic   39.700100\n",
       "475       work   37.106150\n",
       "53        busi   36.263529"
      ]
     },
     "execution_count": 20,
     "metadata": {},
     "output_type": "execute_result"
    }
   ],
   "source": [
    "word_frequency = feature_df.sum().reset_index()\n",
    "word_frequency.columns=['word', 'freq']\n",
    "\n",
    "word_frequency=word_frequency.sort(columns='freq', ascending= False)\n",
    "word_frequency[:20]\n",
    "\n"
   ]
  },
  {
   "cell_type": "code",
   "execution_count": 21,
   "metadata": {
    "collapsed": true
   },
   "outputs": [],
   "source": [
    "feature_df.to_csv(\"feature_df.csv\", cols=['sum'])"
   ]
  },
  {
   "cell_type": "code",
   "execution_count": 22,
   "metadata": {
    "collapsed": false
   },
   "outputs": [
    {
     "data": {
      "text/html": [
       "<div>\n",
       "<table border=\"1\" class=\"dataframe\">\n",
       "  <thead>\n",
       "    <tr style=\"text-align: right;\">\n",
       "      <th></th>\n",
       "      <th>00137422</th>\n",
       "      <th>00137422 entm</th>\n",
       "      <th>10000</th>\n",
       "      <th>10000 mips</th>\n",
       "      <th>1st</th>\n",
       "      <th>1st support</th>\n",
       "      <th>2000</th>\n",
       "      <th>2000 physical</th>\n",
       "      <th>21st</th>\n",
       "      <th>21st century</th>\n",
       "      <th>...</th>\n",
       "      <th>youtube com</th>\n",
       "      <th>youve</th>\n",
       "      <th>youve changed</th>\n",
       "      <th>zeitl</th>\n",
       "      <th>zero</th>\n",
       "      <th>zero confidence</th>\n",
       "      <th>zone</th>\n",
       "      <th>zone consideration</th>\n",
       "      <th>zsecure</th>\n",
       "      <th>zsecure beta88</th>\n",
       "    </tr>\n",
       "  </thead>\n",
       "  <tbody>\n",
       "    <tr>\n",
       "      <th>0</th>\n",
       "      <td>0</td>\n",
       "      <td>0</td>\n",
       "      <td>0</td>\n",
       "      <td>0</td>\n",
       "      <td>0</td>\n",
       "      <td>0</td>\n",
       "      <td>0</td>\n",
       "      <td>0</td>\n",
       "      <td>0</td>\n",
       "      <td>0</td>\n",
       "      <td>...</td>\n",
       "      <td>0</td>\n",
       "      <td>0</td>\n",
       "      <td>0</td>\n",
       "      <td>0</td>\n",
       "      <td>0</td>\n",
       "      <td>0</td>\n",
       "      <td>0</td>\n",
       "      <td>0</td>\n",
       "      <td>0</td>\n",
       "      <td>0</td>\n",
       "    </tr>\n",
       "  </tbody>\n",
       "</table>\n",
       "<p>1 rows × 21061 columns</p>\n",
       "</div>"
      ],
      "text/plain": [
       "   00137422  00137422 entm  10000  10000 mips  1st  1st support  2000  \\\n",
       "0         0              0      0           0    0            0     0   \n",
       "\n",
       "   2000 physical  21st  21st century       ...        youtube com  youve  \\\n",
       "0              0     0             0       ...                  0      0   \n",
       "\n",
       "   youve changed  zeitl  zero  zero confidence  zone  zone consideration  \\\n",
       "0              0      0     0                0     0                   0   \n",
       "\n",
       "   zsecure  zsecure beta88  \n",
       "0        0               0  \n",
       "\n",
       "[1 rows x 21061 columns]"
      ]
     },
     "execution_count": 22,
     "metadata": {},
     "output_type": "execute_result"
    }
   ],
   "source": [
    "feature1= counts1.toarray()\n",
    "feature_df1 = pd.DataFrame(feature1, columns=count_vectorizer.get_feature_names())\n",
    "feature_df1[:1]"
   ]
  },
  {
   "cell_type": "code",
   "execution_count": 23,
   "metadata": {
    "collapsed": false
   },
   "outputs": [
    {
     "name": "stderr",
     "output_type": "stream",
     "text": [
      "/Users/shani16/anaconda/lib/python2.7/site-packages/ipykernel/__main__.py:4: FutureWarning: sort(columns=....) is deprecated, use sort_values(by=.....)\n"
     ]
    },
    {
     "data": {
      "text/html": [
       "<div>\n",
       "<table border=\"1\" class=\"dataframe\">\n",
       "  <thead>\n",
       "    <tr style=\"text-align: right;\">\n",
       "      <th></th>\n",
       "      <th>word</th>\n",
       "      <th>freq</th>\n",
       "    </tr>\n",
       "  </thead>\n",
       "  <tbody>\n",
       "    <tr>\n",
       "      <th>13607</th>\n",
       "      <td>products</td>\n",
       "      <td>71.644222</td>\n",
       "    </tr>\n",
       "    <tr>\n",
       "      <th>17992</th>\n",
       "      <td>support</td>\n",
       "      <td>68.724507</td>\n",
       "    </tr>\n",
       "    <tr>\n",
       "      <th>13346</th>\n",
       "      <td>product</td>\n",
       "      <td>55.688841</td>\n",
       "    </tr>\n",
       "    <tr>\n",
       "      <th>8191</th>\n",
       "      <td>improve</td>\n",
       "      <td>46.662519</td>\n",
       "    </tr>\n",
       "    <tr>\n",
       "      <th>14373</th>\n",
       "      <td>quality</td>\n",
       "      <td>23.196352</td>\n",
       "    </tr>\n",
       "    <tr>\n",
       "      <th>16972</th>\n",
       "      <td>software</td>\n",
       "      <td>22.888354</td>\n",
       "    </tr>\n",
       "    <tr>\n",
       "      <th>9225</th>\n",
       "      <td>issues</td>\n",
       "      <td>22.675108</td>\n",
       "    </tr>\n",
       "    <tr>\n",
       "      <th>14084</th>\n",
       "      <td>provide</td>\n",
       "      <td>21.492348</td>\n",
       "    </tr>\n",
       "    <tr>\n",
       "      <th>19038</th>\n",
       "      <td>time</td>\n",
       "      <td>20.506324</td>\n",
       "    </tr>\n",
       "    <tr>\n",
       "      <th>16368</th>\n",
       "      <td>service</td>\n",
       "      <td>20.051511</td>\n",
       "    </tr>\n",
       "    <tr>\n",
       "      <th>16433</th>\n",
       "      <td>services</td>\n",
       "      <td>18.085484</td>\n",
       "    </tr>\n",
       "    <tr>\n",
       "      <th>18591</th>\n",
       "      <td>technical</td>\n",
       "      <td>17.954625</td>\n",
       "    </tr>\n",
       "    <tr>\n",
       "      <th>13078</th>\n",
       "      <td>pricing</td>\n",
       "      <td>17.861254</td>\n",
       "    </tr>\n",
       "    <tr>\n",
       "      <th>19288</th>\n",
       "      <td>tools</td>\n",
       "      <td>17.335701</td>\n",
       "    </tr>\n",
       "    <tr>\n",
       "      <th>8878</th>\n",
       "      <td>integration</td>\n",
       "      <td>16.806177</td>\n",
       "    </tr>\n",
       "    <tr>\n",
       "      <th>3701</th>\n",
       "      <td>cost</td>\n",
       "      <td>16.446374</td>\n",
       "    </tr>\n",
       "    <tr>\n",
       "      <th>2032</th>\n",
       "      <td>business</td>\n",
       "      <td>16.155523</td>\n",
       "    </tr>\n",
       "    <tr>\n",
       "      <th>18498</th>\n",
       "      <td>team</td>\n",
       "      <td>15.798559</td>\n",
       "    </tr>\n",
       "    <tr>\n",
       "      <th>4715</th>\n",
       "      <td>difficult</td>\n",
       "      <td>13.804854</td>\n",
       "    </tr>\n",
       "    <tr>\n",
       "      <th>183</th>\n",
       "      <td>account</td>\n",
       "      <td>13.657587</td>\n",
       "    </tr>\n",
       "    <tr>\n",
       "      <th>10558</th>\n",
       "      <td>management</td>\n",
       "      <td>13.567773</td>\n",
       "    </tr>\n",
       "    <tr>\n",
       "      <th>20230</th>\n",
       "      <td>value</td>\n",
       "      <td>13.062243</td>\n",
       "    </tr>\n",
       "    <tr>\n",
       "      <th>13036</th>\n",
       "      <td>price</td>\n",
       "      <td>12.581665</td>\n",
       "    </tr>\n",
       "    <tr>\n",
       "      <th>17091</th>\n",
       "      <td>solution</td>\n",
       "      <td>12.483407</td>\n",
       "    </tr>\n",
       "    <tr>\n",
       "      <th>20861</th>\n",
       "      <td>working</td>\n",
       "      <td>12.228011</td>\n",
       "    </tr>\n",
       "    <tr>\n",
       "      <th>10323</th>\n",
       "      <td>lower</td>\n",
       "      <td>11.846245</td>\n",
       "    </tr>\n",
       "    <tr>\n",
       "      <th>20120</th>\n",
       "      <td>user</td>\n",
       "      <td>11.822266</td>\n",
       "    </tr>\n",
       "    <tr>\n",
       "      <th>8282</th>\n",
       "      <td>improve support</td>\n",
       "      <td>11.502375</td>\n",
       "    </tr>\n",
       "    <tr>\n",
       "      <th>18659</th>\n",
       "      <td>technologies</td>\n",
       "      <td>11.389311</td>\n",
       "    </tr>\n",
       "    <tr>\n",
       "      <th>15903</th>\n",
       "      <td>sales</td>\n",
       "      <td>11.301727</td>\n",
       "    </tr>\n",
       "    <tr>\n",
       "      <th>20991</th>\n",
       "      <td>years</td>\n",
       "      <td>11.111235</td>\n",
       "    </tr>\n",
       "    <tr>\n",
       "      <th>2617</th>\n",
       "      <td>clarity</td>\n",
       "      <td>10.260711</td>\n",
       "    </tr>\n",
       "    <tr>\n",
       "      <th>8297</th>\n",
       "      <td>improved</td>\n",
       "      <td>10.260602</td>\n",
       "    </tr>\n",
       "    <tr>\n",
       "      <th>3932</th>\n",
       "      <td>current</td>\n",
       "      <td>10.235206</td>\n",
       "    </tr>\n",
       "    <tr>\n",
       "      <th>13222</th>\n",
       "      <td>problems</td>\n",
       "      <td>10.123577</td>\n",
       "    </tr>\n",
       "    <tr>\n",
       "      <th>4938</th>\n",
       "      <td>documentation</td>\n",
       "      <td>10.102271</td>\n",
       "    </tr>\n",
       "    <tr>\n",
       "      <th>8092</th>\n",
       "      <td>implementation</td>\n",
       "      <td>10.050033</td>\n",
       "    </tr>\n",
       "    <tr>\n",
       "      <th>19247</th>\n",
       "      <td>tool</td>\n",
       "      <td>10.003018</td>\n",
       "    </tr>\n",
       "    <tr>\n",
       "      <th>9459</th>\n",
       "      <td>keep</td>\n",
       "      <td>9.998427</td>\n",
       "    </tr>\n",
       "    <tr>\n",
       "      <th>7623</th>\n",
       "      <td>help</td>\n",
       "      <td>9.648057</td>\n",
       "    </tr>\n",
       "    <tr>\n",
       "      <th>4293</th>\n",
       "      <td>deliver</td>\n",
       "      <td>9.411103</td>\n",
       "    </tr>\n",
       "    <tr>\n",
       "      <th>7069</th>\n",
       "      <td>functionality</td>\n",
       "      <td>9.408289</td>\n",
       "    </tr>\n",
       "    <tr>\n",
       "      <th>18633</th>\n",
       "      <td>technical support</td>\n",
       "      <td>9.396681</td>\n",
       "    </tr>\n",
       "    <tr>\n",
       "      <th>13265</th>\n",
       "      <td>process</td>\n",
       "      <td>9.356790</td>\n",
       "    </tr>\n",
       "    <tr>\n",
       "      <th>8589</th>\n",
       "      <td>information</td>\n",
       "      <td>9.189428</td>\n",
       "    </tr>\n",
       "    <tr>\n",
       "      <th>4609</th>\n",
       "      <td>development</td>\n",
       "      <td>9.141071</td>\n",
       "    </tr>\n",
       "    <tr>\n",
       "      <th>19974</th>\n",
       "      <td>upgrade</td>\n",
       "      <td>9.083661</td>\n",
       "    </tr>\n",
       "    <tr>\n",
       "      <th>15529</th>\n",
       "      <td>response</td>\n",
       "      <td>9.008649</td>\n",
       "    </tr>\n",
       "    <tr>\n",
       "      <th>6747</th>\n",
       "      <td>focus</td>\n",
       "      <td>8.959908</td>\n",
       "    </tr>\n",
       "    <tr>\n",
       "      <th>19750</th>\n",
       "      <td>understand</td>\n",
       "      <td>8.784990</td>\n",
       "    </tr>\n",
       "  </tbody>\n",
       "</table>\n",
       "</div>"
      ],
      "text/plain": [
       "                    word       freq\n",
       "13607           products  71.644222\n",
       "17992            support  68.724507\n",
       "13346            product  55.688841\n",
       "8191             improve  46.662519\n",
       "14373            quality  23.196352\n",
       "16972           software  22.888354\n",
       "9225              issues  22.675108\n",
       "14084            provide  21.492348\n",
       "19038               time  20.506324\n",
       "16368            service  20.051511\n",
       "16433           services  18.085484\n",
       "18591          technical  17.954625\n",
       "13078            pricing  17.861254\n",
       "19288              tools  17.335701\n",
       "8878         integration  16.806177\n",
       "3701                cost  16.446374\n",
       "2032            business  16.155523\n",
       "18498               team  15.798559\n",
       "4715           difficult  13.804854\n",
       "183              account  13.657587\n",
       "10558         management  13.567773\n",
       "20230              value  13.062243\n",
       "13036              price  12.581665\n",
       "17091           solution  12.483407\n",
       "20861            working  12.228011\n",
       "10323              lower  11.846245\n",
       "20120               user  11.822266\n",
       "8282     improve support  11.502375\n",
       "18659       technologies  11.389311\n",
       "15903              sales  11.301727\n",
       "20991              years  11.111235\n",
       "2617             clarity  10.260711\n",
       "8297            improved  10.260602\n",
       "3932             current  10.235206\n",
       "13222           problems  10.123577\n",
       "4938       documentation  10.102271\n",
       "8092      implementation  10.050033\n",
       "19247               tool  10.003018\n",
       "9459                keep   9.998427\n",
       "7623                help   9.648057\n",
       "4293             deliver   9.411103\n",
       "7069       functionality   9.408289\n",
       "18633  technical support   9.396681\n",
       "13265            process   9.356790\n",
       "8589         information   9.189428\n",
       "4609         development   9.141071\n",
       "19974            upgrade   9.083661\n",
       "15529           response   9.008649\n",
       "6747               focus   8.959908\n",
       "19750         understand   8.784990"
      ]
     },
     "execution_count": 23,
     "metadata": {},
     "output_type": "execute_result"
    }
   ],
   "source": [
    "word_frequency1 = feature_df1.sum().reset_index()\n",
    "word_frequency1.columns=['word', 'freq']\n",
    "\n",
    "word_frequency1=word_frequency1.sort(columns='freq', ascending= False)\n",
    "word_frequency1[:50]"
   ]
  },
  {
   "cell_type": "markdown",
   "metadata": {},
   "source": [
    "## Clusters K Means"
   ]
  },
  {
   "cell_type": "code",
   "execution_count": 24,
   "metadata": {
    "collapsed": false
   },
   "outputs": [
    {
     "data": {
      "text/plain": [
       "KMeans(copy_x=True, init='k-means++', max_iter=300, n_clusters=5, n_init=10,\n",
       "    n_jobs=1, precompute_distances='auto', random_state=None, tol=0.0001,\n",
       "    verbose=0)"
      ]
     },
     "execution_count": 24,
     "metadata": {},
     "output_type": "execute_result"
    }
   ],
   "source": [
    "from sklearn.cluster import KMeans\n",
    "model = KMeans (n_clusters=5, init= 'k-means++')\n",
    "model.fit(vectorized) #add sparse matrix "
   ]
  },
  {
   "cell_type": "code",
   "execution_count": 25,
   "metadata": {
    "collapsed": false
   },
   "outputs": [
    {
     "name": "stdout",
     "output_type": "stream",
     "text": [
      "Top terms per cluster:\n",
      "Cluster 0:  tool  time  issu  servic  improv  manag  softwar  cost  team  work\n",
      "Cluster 1:  provid  product  support  servic  inform  cost  solut  time  manag  document\n",
      "Cluster 2:  support  improv  product  technic  servic  qualiti  team  knowledg  issu  respons\n"
     ]
    }
   ],
   "source": [
    "#sorting in descending order ie: -1\n",
    "#giving top ten words ie: :10\n",
    "print(\"Top terms per cluster:\")\n",
    "order_centroids = model.cluster_centers_.argsort()[:, ::-1]\n",
    "terms = vectorizer.get_feature_names()\n",
    "for i in range(3):\n",
    "   print \"Cluster %d:\" % i,\n",
    "   for ind in order_centroids[i, :10]:\n",
    "       print ' %s' % terms[ind],\n",
    "   print"
   ]
  },
  {
   "cell_type": "code",
   "execution_count": 26,
   "metadata": {
    "collapsed": false
   },
   "outputs": [],
   "source": [
    "clusters=pd.Series(model.labels_)\n",
    "df_new['clusters']=clusters"
   ]
  },
  {
   "cell_type": "code",
   "execution_count": 27,
   "metadata": {
    "collapsed": false
   },
   "outputs": [
    {
     "data": {
      "text/plain": [
       "KMeans(copy_x=True, init='k-means++', max_iter=300, n_clusters=5, n_init=10,\n",
       "    n_jobs=1, precompute_distances='auto', random_state=None, tol=0.0001,\n",
       "    verbose=0)"
      ]
     },
     "execution_count": 27,
     "metadata": {},
     "output_type": "execute_result"
    }
   ],
   "source": [
    "model1 = KMeans (n_clusters=5, init= 'k-means++')\n",
    "model1.fit(counts1) #add sparse matrix "
   ]
  },
  {
   "cell_type": "code",
   "execution_count": 28,
   "metadata": {
    "collapsed": false
   },
   "outputs": [],
   "source": [
    "clusters1=pd.Series(model1.labels_)"
   ]
  },
  {
   "cell_type": "code",
   "execution_count": 29,
   "metadata": {
    "collapsed": false,
    "scrolled": true
   },
   "outputs": [
    {
     "name": "stdout",
     "output_type": "stream",
     "text": [
      "Top terms per cluster:\n",
      "Cluster 0:  time  issues  tools  improve  pricing  business  service  account  provide  team\n",
      "Cluster 1:  support  improve  improve support  technical support  technical  support products  products  quality  service  issues\n",
      "Cluster 2:  software  lower  prices  costs  lower prices  reduce  cost  lower costs  price  pricing\n"
     ]
    }
   ],
   "source": [
    "#sorting in descending order ie: -1\n",
    "#giving top ten words ie: :10\n",
    "print(\"Top terms per cluster:\")\n",
    "order_centroids = model1.cluster_centers_.argsort()[:, ::-1]\n",
    "terms = count_vectorizer1.get_feature_names()\n",
    "for i in range(3):\n",
    "   print \"Cluster %d:\" % i,\n",
    "   for ind in order_centroids[i, :10]:\n",
    "       print ' %s' % terms[ind],\n",
    "   print"
   ]
  },
  {
   "cell_type": "code",
   "execution_count": 30,
   "metadata": {
    "collapsed": false
   },
   "outputs": [],
   "source": [
    "df_new['clusters1']=clusters1"
   ]
  },
  {
   "cell_type": "code",
   "execution_count": 31,
   "metadata": {
    "collapsed": false
   },
   "outputs": [
    {
     "data": {
      "text/html": [
       "<div>\n",
       "<table border=\"1\" class=\"dataframe\">\n",
       "  <thead>\n",
       "    <tr style=\"text-align: right;\">\n",
       "      <th></th>\n",
       "      <th>email</th>\n",
       "      <th>sentence</th>\n",
       "      <th>clusters</th>\n",
       "      <th>clusters1</th>\n",
       "    </tr>\n",
       "  </thead>\n",
       "  <tbody>\n",
       "    <tr>\n",
       "      <th>0</th>\n",
       "      <td>jmccullough3@csc.com</td>\n",
       "      <td>Better execution on production integration and ease of reporting</td>\n",
       "      <td>3</td>\n",
       "      <td>0</td>\n",
       "    </tr>\n",
       "    <tr>\n",
       "      <th>1</th>\n",
       "      <td>4254.jgodoy@bradesco.com.br</td>\n",
       "      <td>the report says that this questionnaire can answer it until 22/06, but is allowing me to continue to fill it - lowering prices of their solutions - reduce solution times of your technical support team through the Support Center (formal processes) - availa</td>\n",
       "      <td>2</td>\n",
       "      <td>1</td>\n",
       "    </tr>\n",
       "    <tr>\n",
       "      <th>2</th>\n",
       "      <td>Anandv78@gmail.com</td>\n",
       "      <td>We have been using the solution provided by  CA Technologies in a  critical function.</td>\n",
       "      <td>1</td>\n",
       "      <td>0</td>\n",
       "    </tr>\n",
       "    <tr>\n",
       "      <th>3</th>\n",
       "      <td>Anandv78@gmail.com</td>\n",
       "      <td>The one single area which requires immediate attention is to ensure overall improvement in support levels and timely response to organisational requirements.</td>\n",
       "      <td>0</td>\n",
       "      <td>0</td>\n",
       "    </tr>\n",
       "    <tr>\n",
       "      <th>4</th>\n",
       "      <td>Anandv78@gmail.com</td>\n",
       "      <td>Our experience has been very poor with prolonged resolutions for critical issues raised.</td>\n",
       "      <td>0</td>\n",
       "      <td>0</td>\n",
       "    </tr>\n",
       "  </tbody>\n",
       "</table>\n",
       "</div>"
      ],
      "text/plain": [
       "                         email  \\\n",
       "0         jmccullough3@csc.com   \n",
       "1  4254.jgodoy@bradesco.com.br   \n",
       "2           Anandv78@gmail.com   \n",
       "3           Anandv78@gmail.com   \n",
       "4           Anandv78@gmail.com   \n",
       "\n",
       "                                                                                                                                                                                                                                                          sentence  \\\n",
       "0                                                                                                                                                                                                 Better execution on production integration and ease of reporting   \n",
       "1  the report says that this questionnaire can answer it until 22/06, but is allowing me to continue to fill it - lowering prices of their solutions - reduce solution times of your technical support team through the Support Center (formal processes) - availa   \n",
       "2                                                                                                                                                                            We have been using the solution provided by  CA Technologies in a  critical function.   \n",
       "3                                                                                                    The one single area which requires immediate attention is to ensure overall improvement in support levels and timely response to organisational requirements.   \n",
       "4                                                                                                                                                                         Our experience has been very poor with prolonged resolutions for critical issues raised.   \n",
       "\n",
       "   clusters  clusters1  \n",
       "0         3          0  \n",
       "1         2          1  \n",
       "2         1          0  \n",
       "3         0          0  \n",
       "4         0          0  "
      ]
     },
     "execution_count": 31,
     "metadata": {},
     "output_type": "execute_result"
    }
   ],
   "source": [
    "df_new.head()"
   ]
  },
  {
   "cell_type": "code",
   "execution_count": 32,
   "metadata": {
    "collapsed": false
   },
   "outputs": [
    {
     "data": {
      "text/html": [
       "<div>\n",
       "<table border=\"1\" class=\"dataframe\">\n",
       "  <thead>\n",
       "    <tr style=\"text-align: right;\">\n",
       "      <th></th>\n",
       "      <th>clusters</th>\n",
       "    </tr>\n",
       "    <tr>\n",
       "      <th>clusters1</th>\n",
       "      <th></th>\n",
       "    </tr>\n",
       "  </thead>\n",
       "  <tbody>\n",
       "    <tr>\n",
       "      <th>0</th>\n",
       "      <td>467</td>\n",
       "    </tr>\n",
       "    <tr>\n",
       "      <th>1</th>\n",
       "      <td>454</td>\n",
       "    </tr>\n",
       "    <tr>\n",
       "      <th>2</th>\n",
       "      <td>185</td>\n",
       "    </tr>\n",
       "    <tr>\n",
       "      <th>3</th>\n",
       "      <td>1118</td>\n",
       "    </tr>\n",
       "    <tr>\n",
       "      <th>4</th>\n",
       "      <td>855</td>\n",
       "    </tr>\n",
       "  </tbody>\n",
       "</table>\n",
       "</div>"
      ],
      "text/plain": [
       "           clusters\n",
       "clusters1          \n",
       "0               467\n",
       "1               454\n",
       "2               185\n",
       "3              1118\n",
       "4               855"
      ]
     },
     "execution_count": 32,
     "metadata": {},
     "output_type": "execute_result"
    }
   ],
   "source": [
    "df_new.groupby('clusters1').sum()"
   ]
  },
  {
   "cell_type": "code",
   "execution_count": 33,
   "metadata": {
    "collapsed": false
   },
   "outputs": [
    {
     "data": {
      "text/html": [
       "<div>\n",
       "<table border=\"1\" class=\"dataframe\">\n",
       "  <thead>\n",
       "    <tr style=\"text-align: right;\">\n",
       "      <th></th>\n",
       "      <th>clusters1</th>\n",
       "    </tr>\n",
       "    <tr>\n",
       "      <th>clusters</th>\n",
       "      <th></th>\n",
       "    </tr>\n",
       "  </thead>\n",
       "  <tbody>\n",
       "    <tr>\n",
       "      <th>0</th>\n",
       "      <td>397</td>\n",
       "    </tr>\n",
       "    <tr>\n",
       "      <th>1</th>\n",
       "      <td>167</td>\n",
       "    </tr>\n",
       "    <tr>\n",
       "      <th>2</th>\n",
       "      <td>366</td>\n",
       "    </tr>\n",
       "    <tr>\n",
       "      <th>3</th>\n",
       "      <td>2073</td>\n",
       "    </tr>\n",
       "    <tr>\n",
       "      <th>4</th>\n",
       "      <td>120</td>\n",
       "    </tr>\n",
       "  </tbody>\n",
       "</table>\n",
       "</div>"
      ],
      "text/plain": [
       "          clusters1\n",
       "clusters           \n",
       "0               397\n",
       "1               167\n",
       "2               366\n",
       "3              2073\n",
       "4               120"
      ]
     },
     "execution_count": 33,
     "metadata": {},
     "output_type": "execute_result"
    }
   ],
   "source": [
    "df_new.groupby('clusters').sum()"
   ]
  },
  {
   "cell_type": "markdown",
   "metadata": {},
   "source": [
    "### Agglomerative clustering "
   ]
  },
  {
   "cell_type": "markdown",
   "metadata": {},
   "source": [
    "## DBSCAN"
   ]
  },
  {
   "cell_type": "code",
   "execution_count": 34,
   "metadata": {
    "collapsed": false
   },
   "outputs": [],
   "source": [
    "import numpy as np\n",
    "\n",
    "from sklearn.cluster import DBSCAN\n",
    "from sklearn import metrics\n",
    "from sklearn.datasets.samples_generator import make_blobs\n",
    "from sklearn.preprocessing import StandardScaler\n"
   ]
  },
  {
   "cell_type": "code",
   "execution_count": 35,
   "metadata": {
    "collapsed": false
   },
   "outputs": [
    {
     "name": "stdout",
     "output_type": "stream",
     "text": [
      "Estimated number of clusters: 21\n"
     ]
    }
   ],
   "source": [
    "db = DBSCAN(eps=0.9, min_samples=8).fit(vectorized)\n",
    "core_samples_mask = np.zeros_like(db.labels_, dtype=bool)\n",
    "core_samples_mask[db.core_sample_indices_] = True\n",
    "labels = db.labels_\n",
    "n_clusters_ = len(set(labels)) - (1 if -1 in labels else 0)\n",
    "\n",
    "print('Estimated number of clusters: %d' % n_clusters_)"
   ]
  },
  {
   "cell_type": "code",
   "execution_count": 36,
   "metadata": {
    "collapsed": false
   },
   "outputs": [],
   "source": [
    "# clust = DBSCAN(eps=0.1, min_samples=5, metric=\"precomputed\")\n",
    "# clust.fit(counts)\n",
    "\n",
    "# # print cluster report\n",
    "# stitles = []\n",
    "# ftitles = open(os.path.join(OUTPUT_DIR, \"stitles.txt\"), 'rb')\n",
    "# for line in ftitles:\n",
    "#     stitles.append(line.strip().split(\"\\t\")[0])\n",
    "# ftitles.close()\n",
    "\n",
    "# preds = clust.labels_\n",
    "# clabels = np.unique(preds)\n",
    "# for i in range(clabels.shape[0]):\n",
    "#     if clabels[i] < 0:\n",
    "#         continue\n",
    "#     cmem_ids = np.where(preds == clabels[i])[0]\n",
    "#     cmembers = []\n",
    "#     for cmem_id in cmem_ids:\n",
    "#         cmembers.append(stitles[cmem_id])\n",
    "#     print \"Cluster#%d: %s\" % (i, \", \".join(cmembers))\n"
   ]
  },
  {
   "cell_type": "code",
   "execution_count": 37,
   "metadata": {
    "collapsed": false
   },
   "outputs": [
    {
     "data": {
      "text/plain": [
       "DBSCAN(algorithm='auto', eps=0.9, leaf_size=30, metric='euclidean',\n",
       "    min_samples=8, p=None, random_state=None)"
      ]
     },
     "execution_count": 37,
     "metadata": {},
     "output_type": "execute_result"
    }
   ],
   "source": [
    "db"
   ]
  },
  {
   "cell_type": "markdown",
   "metadata": {},
   "source": [
    "## LDA"
   ]
  },
  {
   "cell_type": "code",
   "execution_count": 38,
   "metadata": {
    "collapsed": false
   },
   "outputs": [
    {
     "name": "stdout",
     "output_type": "stream",
     "text": [
      "Extracting tf-idf features for NMF...\n",
      "done in 0.086s.\n",
      "Extracting tf features for LDA...\n",
      "done in 4.665s.\n",
      "\n",
      "Topics in LDA model:\n",
      "Topic #0:\n",
      "respons implement work time partner point request area meet product contact profession\n",
      "Topic #1:\n",
      "improv product support integr qualiti servic function tool user technic deliv communic\n",
      "Topic #2:\n",
      "difficult year engag experi document easier enhanc innov support instal product set\n",
      "Topic #3:\n",
      "price product provid help valu solut lower technolog understand base softwar term\n",
      "Topic #4:\n",
      "cost product team account busi offer manag issu train process purchas reduc\n",
      "Topic #5:\n",
      "licens flexibl releas product direct model way contract roadmap feel deploy strategi\n",
      "Topic #6:\n",
      "current requir case focus problem upgrad still want involv product go version\n",
      "\n"
     ]
    }
   ],
   "source": [
    "from __future__ import print_function\n",
    "from time import time\n",
    "\n",
    "from sklearn.feature_extraction.text import TfidfVectorizer, CountVectorizer\n",
    "from sklearn.decomposition import LatentDirichletAllocation\n",
    "from sklearn.datasets import fetch_20newsgroups\n",
    "\n",
    "n_topics = 7\n",
    "n_top_words = 12\n",
    "\n",
    "\n",
    "def print_top_words(model, feature_names, n_top_words):\n",
    "    for topic_idx, topic in enumerate(model.components_):\n",
    "        print(\"Topic #%d:\" % topic_idx)\n",
    "        print(\" \".join([feature_names[i]\n",
    "                        for i in topic.argsort()[:-n_top_words - 1:-1]]))\n",
    "    print()\n",
    "\n",
    "stopwords = nltk.corpus.stopwords.words('english')\n",
    "stopwords += ['.', ',', '(', ')', \"'\", '\"', 'ca']\n",
    "stopwords += ['us', 'use', 'get', 'make', 'needs', 'need', 'customer','customers',\n",
    "              'would', 'get', 'like', '30', 'also', 'many', 'day'\n",
    "             '30', '1000', '10', '06', '100', '1000', '1000s', '11', '12', '13','14', '15', '18', '19', '1sr', '200',\n",
    "             '2005', '2009', '2011', '2012', '20126', '2014', '2015', 'vs', 'you', 'we', 'know', 'even', 'see', 'zuk', \n",
    "              'fen' , 'gartner', 'rules', 'cas', 'year', 'nothing', 'look', 'sure', 'solutions', 'better', 'sure' ,\n",
    "              'line', 'one','clear', 'products', 'product']\n",
    "print( \"Extracting tf-idf features for NMF...\")\n",
    "tfidf_vectorizer = TfidfVectorizer(max_df=0.95, min_df=2, #max_features=n_features,\n",
    "                                   stop_words=stopwords)\n",
    "t0 = time()\n",
    "tfidf = tfidf_vectorizer.fit_transform(df_new['sentence'])\n",
    "print(\"done in %0.3fs.\" % (time() - t0))\n",
    "\n",
    "# Use tf (raw term count) features for LDA.\n",
    "print(\"Extracting tf features for LDA...\")\n",
    "lda = LatentDirichletAllocation(n_topics=n_topics,\n",
    "                                random_state=222)\n",
    "t0 = time()\n",
    "lda.fit(vectorized)\n",
    "print(\"done in %0.3fs.\" % (time() - t0))\n",
    "\n",
    "print(\"\\nTopics in LDA model:\")\n",
    "tf_feature_names = vectorizer.get_feature_names()\n",
    "print_top_words(lda, tf_feature_names, n_top_words)"
   ]
  },
  {
   "cell_type": "code",
   "execution_count": 39,
   "metadata": {
    "collapsed": false
   },
   "outputs": [],
   "source": [
    "test=pd.DataFrame(lda.transform(vectorized))"
   ]
  },
  {
   "cell_type": "code",
   "execution_count": 40,
   "metadata": {
    "collapsed": false
   },
   "outputs": [
    {
     "data": {
      "text/html": [
       "<div>\n",
       "<table border=\"1\" class=\"dataframe\">\n",
       "  <thead>\n",
       "    <tr style=\"text-align: right;\">\n",
       "      <th></th>\n",
       "      <th>0</th>\n",
       "      <th>1</th>\n",
       "      <th>2</th>\n",
       "      <th>3</th>\n",
       "      <th>4</th>\n",
       "      <th>5</th>\n",
       "      <th>6</th>\n",
       "    </tr>\n",
       "  </thead>\n",
       "  <tbody>\n",
       "    <tr>\n",
       "      <th>0</th>\n",
       "      <td>0.142886</td>\n",
       "      <td>1.727615</td>\n",
       "      <td>0.700000</td>\n",
       "      <td>0.142895</td>\n",
       "      <td>0.143552</td>\n",
       "      <td>0.143439</td>\n",
       "      <td>0.142879</td>\n",
       "    </tr>\n",
       "    <tr>\n",
       "      <th>1</th>\n",
       "      <td>0.143131</td>\n",
       "      <td>0.143377</td>\n",
       "      <td>0.143037</td>\n",
       "      <td>0.800068</td>\n",
       "      <td>3.188810</td>\n",
       "      <td>0.142937</td>\n",
       "      <td>0.143284</td>\n",
       "    </tr>\n",
       "    <tr>\n",
       "      <th>2</th>\n",
       "      <td>0.142903</td>\n",
       "      <td>0.143724</td>\n",
       "      <td>0.143138</td>\n",
       "      <td>2.557317</td>\n",
       "      <td>0.143421</td>\n",
       "      <td>0.143044</td>\n",
       "      <td>0.142937</td>\n",
       "    </tr>\n",
       "    <tr>\n",
       "      <th>3</th>\n",
       "      <td>0.745644</td>\n",
       "      <td>0.877082</td>\n",
       "      <td>0.505125</td>\n",
       "      <td>0.143032</td>\n",
       "      <td>0.915892</td>\n",
       "      <td>0.143081</td>\n",
       "      <td>0.995109</td>\n",
       "    </tr>\n",
       "    <tr>\n",
       "      <th>4</th>\n",
       "      <td>0.616349</td>\n",
       "      <td>0.143119</td>\n",
       "      <td>2.084846</td>\n",
       "      <td>0.144372</td>\n",
       "      <td>0.143003</td>\n",
       "      <td>0.142858</td>\n",
       "      <td>0.142857</td>\n",
       "    </tr>\n",
       "  </tbody>\n",
       "</table>\n",
       "</div>"
      ],
      "text/plain": [
       "          0         1         2         3         4         5         6\n",
       "0  0.142886  1.727615  0.700000  0.142895  0.143552  0.143439  0.142879\n",
       "1  0.143131  0.143377  0.143037  0.800068  3.188810  0.142937  0.143284\n",
       "2  0.142903  0.143724  0.143138  2.557317  0.143421  0.143044  0.142937\n",
       "3  0.745644  0.877082  0.505125  0.143032  0.915892  0.143081  0.995109\n",
       "4  0.616349  0.143119  2.084846  0.144372  0.143003  0.142858  0.142857"
      ]
     },
     "execution_count": 40,
     "metadata": {},
     "output_type": "execute_result"
    }
   ],
   "source": [
    "test.head()"
   ]
  },
  {
   "cell_type": "code",
   "execution_count": 41,
   "metadata": {
    "collapsed": false
   },
   "outputs": [],
   "source": [
    "topics = ['Helps be succesful', 'Support', 'Installation and Enhancements', 'Pricing', 'Acount Team Mgt',\n",
    "              'Flexibility: release and licensing', \n",
    "              'Upgrades and Implementation']"
   ]
  },
  {
   "cell_type": "code",
   "execution_count": 42,
   "metadata": {
    "collapsed": false
   },
   "outputs": [],
   "source": [
    "# test.columns=['Helps be succesful', 'Support', 'Installation and Enhancements', 'Pricing', 'Acount Team Mgt',\n",
    "#               'Flexibility: release and licensing', \n",
    "#               'Upgrades and Implementation']"
   ]
  },
  {
   "cell_type": "code",
   "execution_count": 43,
   "metadata": {
    "collapsed": false
   },
   "outputs": [
    {
     "data": {
      "text/html": [
       "<div>\n",
       "<table border=\"1\" class=\"dataframe\">\n",
       "  <thead>\n",
       "    <tr style=\"text-align: right;\">\n",
       "      <th></th>\n",
       "      <th>0</th>\n",
       "      <th>1</th>\n",
       "      <th>2</th>\n",
       "      <th>3</th>\n",
       "      <th>4</th>\n",
       "      <th>5</th>\n",
       "      <th>6</th>\n",
       "    </tr>\n",
       "  </thead>\n",
       "  <tbody>\n",
       "    <tr>\n",
       "      <th>0</th>\n",
       "      <td>0.142886</td>\n",
       "      <td>1.727615</td>\n",
       "      <td>0.700000</td>\n",
       "      <td>0.142895</td>\n",
       "      <td>0.143552</td>\n",
       "      <td>0.143439</td>\n",
       "      <td>0.142879</td>\n",
       "    </tr>\n",
       "    <tr>\n",
       "      <th>1</th>\n",
       "      <td>0.143131</td>\n",
       "      <td>0.143377</td>\n",
       "      <td>0.143037</td>\n",
       "      <td>0.800068</td>\n",
       "      <td>3.188810</td>\n",
       "      <td>0.142937</td>\n",
       "      <td>0.143284</td>\n",
       "    </tr>\n",
       "    <tr>\n",
       "      <th>2</th>\n",
       "      <td>0.142903</td>\n",
       "      <td>0.143724</td>\n",
       "      <td>0.143138</td>\n",
       "      <td>2.557317</td>\n",
       "      <td>0.143421</td>\n",
       "      <td>0.143044</td>\n",
       "      <td>0.142937</td>\n",
       "    </tr>\n",
       "    <tr>\n",
       "      <th>3</th>\n",
       "      <td>0.745644</td>\n",
       "      <td>0.877082</td>\n",
       "      <td>0.505125</td>\n",
       "      <td>0.143032</td>\n",
       "      <td>0.915892</td>\n",
       "      <td>0.143081</td>\n",
       "      <td>0.995109</td>\n",
       "    </tr>\n",
       "    <tr>\n",
       "      <th>4</th>\n",
       "      <td>0.616349</td>\n",
       "      <td>0.143119</td>\n",
       "      <td>2.084846</td>\n",
       "      <td>0.144372</td>\n",
       "      <td>0.143003</td>\n",
       "      <td>0.142858</td>\n",
       "      <td>0.142857</td>\n",
       "    </tr>\n",
       "  </tbody>\n",
       "</table>\n",
       "</div>"
      ],
      "text/plain": [
       "          0         1         2         3         4         5         6\n",
       "0  0.142886  1.727615  0.700000  0.142895  0.143552  0.143439  0.142879\n",
       "1  0.143131  0.143377  0.143037  0.800068  3.188810  0.142937  0.143284\n",
       "2  0.142903  0.143724  0.143138  2.557317  0.143421  0.143044  0.142937\n",
       "3  0.745644  0.877082  0.505125  0.143032  0.915892  0.143081  0.995109\n",
       "4  0.616349  0.143119  2.084846  0.144372  0.143003  0.142858  0.142857"
      ]
     },
     "execution_count": 43,
     "metadata": {},
     "output_type": "execute_result"
    }
   ],
   "source": [
    "test.head()"
   ]
  },
  {
   "cell_type": "code",
   "execution_count": 44,
   "metadata": {
    "collapsed": false
   },
   "outputs": [
    {
     "data": {
      "text/html": [
       "<div>\n",
       "<table border=\"1\" class=\"dataframe\">\n",
       "  <thead>\n",
       "    <tr style=\"text-align: right;\">\n",
       "      <th></th>\n",
       "      <th>0</th>\n",
       "      <th>1</th>\n",
       "      <th>2</th>\n",
       "      <th>3</th>\n",
       "      <th>4</th>\n",
       "      <th>5</th>\n",
       "      <th>6</th>\n",
       "    </tr>\n",
       "  </thead>\n",
       "  <tbody>\n",
       "    <tr>\n",
       "      <th>count</th>\n",
       "      <td>3295.000000</td>\n",
       "      <td>3295.000000</td>\n",
       "      <td>3295.000000</td>\n",
       "      <td>3295.000000</td>\n",
       "      <td>3295.000000</td>\n",
       "      <td>3295.000000</td>\n",
       "      <td>3295.000000</td>\n",
       "    </tr>\n",
       "    <tr>\n",
       "      <th>mean</th>\n",
       "      <td>0.341897</td>\n",
       "      <td>0.538495</td>\n",
       "      <td>0.390498</td>\n",
       "      <td>0.441985</td>\n",
       "      <td>0.477499</td>\n",
       "      <td>0.329335</td>\n",
       "      <td>0.423106</td>\n",
       "    </tr>\n",
       "    <tr>\n",
       "      <th>std</th>\n",
       "      <td>0.416088</td>\n",
       "      <td>0.596987</td>\n",
       "      <td>0.463654</td>\n",
       "      <td>0.526297</td>\n",
       "      <td>0.552345</td>\n",
       "      <td>0.399287</td>\n",
       "      <td>0.502914</td>\n",
       "    </tr>\n",
       "    <tr>\n",
       "      <th>min</th>\n",
       "      <td>0.142857</td>\n",
       "      <td>0.142857</td>\n",
       "      <td>0.142857</td>\n",
       "      <td>0.142857</td>\n",
       "      <td>0.142857</td>\n",
       "      <td>0.142857</td>\n",
       "      <td>0.142857</td>\n",
       "    </tr>\n",
       "    <tr>\n",
       "      <th>25%</th>\n",
       "      <td>0.142857</td>\n",
       "      <td>0.142857</td>\n",
       "      <td>0.142874</td>\n",
       "      <td>0.142917</td>\n",
       "      <td>0.142922</td>\n",
       "      <td>0.142857</td>\n",
       "      <td>0.142889</td>\n",
       "    </tr>\n",
       "    <tr>\n",
       "      <th>50%</th>\n",
       "      <td>0.143011</td>\n",
       "      <td>0.143549</td>\n",
       "      <td>0.143040</td>\n",
       "      <td>0.143200</td>\n",
       "      <td>0.143239</td>\n",
       "      <td>0.142940</td>\n",
       "      <td>0.143069</td>\n",
       "    </tr>\n",
       "    <tr>\n",
       "      <th>75%</th>\n",
       "      <td>0.145294</td>\n",
       "      <td>0.887383</td>\n",
       "      <td>0.561422</td>\n",
       "      <td>0.662510</td>\n",
       "      <td>0.740547</td>\n",
       "      <td>0.144267</td>\n",
       "      <td>0.635503</td>\n",
       "    </tr>\n",
       "    <tr>\n",
       "      <th>max</th>\n",
       "      <td>3.334767</td>\n",
       "      <td>2.939337</td>\n",
       "      <td>2.885832</td>\n",
       "      <td>3.240330</td>\n",
       "      <td>3.515719</td>\n",
       "      <td>3.103633</td>\n",
       "      <td>3.497695</td>\n",
       "    </tr>\n",
       "  </tbody>\n",
       "</table>\n",
       "</div>"
      ],
      "text/plain": [
       "                 0            1            2            3            4  \\\n",
       "count  3295.000000  3295.000000  3295.000000  3295.000000  3295.000000   \n",
       "mean      0.341897     0.538495     0.390498     0.441985     0.477499   \n",
       "std       0.416088     0.596987     0.463654     0.526297     0.552345   \n",
       "min       0.142857     0.142857     0.142857     0.142857     0.142857   \n",
       "25%       0.142857     0.142857     0.142874     0.142917     0.142922   \n",
       "50%       0.143011     0.143549     0.143040     0.143200     0.143239   \n",
       "75%       0.145294     0.887383     0.561422     0.662510     0.740547   \n",
       "max       3.334767     2.939337     2.885832     3.240330     3.515719   \n",
       "\n",
       "                 5            6  \n",
       "count  3295.000000  3295.000000  \n",
       "mean      0.329335     0.423106  \n",
       "std       0.399287     0.502914  \n",
       "min       0.142857     0.142857  \n",
       "25%       0.142857     0.142889  \n",
       "50%       0.142940     0.143069  \n",
       "75%       0.144267     0.635503  \n",
       "max       3.103633     3.497695  "
      ]
     },
     "execution_count": 44,
     "metadata": {},
     "output_type": "execute_result"
    }
   ],
   "source": [
    "test.describe()"
   ]
  },
  {
   "cell_type": "code",
   "execution_count": 45,
   "metadata": {
    "collapsed": true
   },
   "outputs": [],
   "source": [
    "def create_topics(cutoffs, topic_names, df):\n",
    "    for idx, topic in enumerate(topic_names):\n",
    "        df[topic] = df[idx].apply(lambda x: 1 if x >= cutoffs[idx] else 0)\n",
    "    return df"
   ]
  },
  {
   "cell_type": "code",
   "execution_count": 46,
   "metadata": {
    "collapsed": false
   },
   "outputs": [],
   "source": [
    "percent= [0.341897, 0.538495, 0.390498, 0.441985, 0.477499, 0.329335, 0.423106]"
   ]
  },
  {
   "cell_type": "code",
   "execution_count": 47,
   "metadata": {
    "collapsed": false
   },
   "outputs": [
    {
     "data": {
      "text/plain": [
       "['Helps be succesful',\n",
       " 'Support',\n",
       " 'Installation and Enhancements',\n",
       " 'Pricing',\n",
       " 'Acount Team Mgt',\n",
       " 'Flexibility: release and licensing',\n",
       " 'Upgrades and Implementation']"
      ]
     },
     "execution_count": 47,
     "metadata": {},
     "output_type": "execute_result"
    }
   ],
   "source": [
    "topics"
   ]
  },
  {
   "cell_type": "code",
   "execution_count": 48,
   "metadata": {
    "collapsed": false
   },
   "outputs": [],
   "source": [
    "test1=create_topics(percent, topics, test)"
   ]
  },
  {
   "cell_type": "code",
   "execution_count": 49,
   "metadata": {
    "collapsed": false
   },
   "outputs": [
    {
     "data": {
      "text/html": [
       "<div>\n",
       "<table border=\"1\" class=\"dataframe\">\n",
       "  <thead>\n",
       "    <tr style=\"text-align: right;\">\n",
       "      <th></th>\n",
       "      <th>0</th>\n",
       "      <th>1</th>\n",
       "      <th>2</th>\n",
       "      <th>3</th>\n",
       "      <th>4</th>\n",
       "      <th>5</th>\n",
       "      <th>6</th>\n",
       "      <th>Helps be succesful</th>\n",
       "      <th>Support</th>\n",
       "      <th>Installation and Enhancements</th>\n",
       "      <th>Pricing</th>\n",
       "      <th>Acount Team Mgt</th>\n",
       "      <th>Flexibility: release and licensing</th>\n",
       "      <th>Upgrades and Implementation</th>\n",
       "    </tr>\n",
       "  </thead>\n",
       "  <tbody>\n",
       "    <tr>\n",
       "      <th>0</th>\n",
       "      <td>0.142886</td>\n",
       "      <td>1.727615</td>\n",
       "      <td>0.700000</td>\n",
       "      <td>0.142895</td>\n",
       "      <td>0.143552</td>\n",
       "      <td>0.143439</td>\n",
       "      <td>0.142879</td>\n",
       "      <td>0</td>\n",
       "      <td>1</td>\n",
       "      <td>1</td>\n",
       "      <td>0</td>\n",
       "      <td>0</td>\n",
       "      <td>0</td>\n",
       "      <td>0</td>\n",
       "    </tr>\n",
       "    <tr>\n",
       "      <th>1</th>\n",
       "      <td>0.143131</td>\n",
       "      <td>0.143377</td>\n",
       "      <td>0.143037</td>\n",
       "      <td>0.800068</td>\n",
       "      <td>3.188810</td>\n",
       "      <td>0.142937</td>\n",
       "      <td>0.143284</td>\n",
       "      <td>0</td>\n",
       "      <td>0</td>\n",
       "      <td>0</td>\n",
       "      <td>1</td>\n",
       "      <td>1</td>\n",
       "      <td>0</td>\n",
       "      <td>0</td>\n",
       "    </tr>\n",
       "    <tr>\n",
       "      <th>2</th>\n",
       "      <td>0.142903</td>\n",
       "      <td>0.143724</td>\n",
       "      <td>0.143138</td>\n",
       "      <td>2.557317</td>\n",
       "      <td>0.143421</td>\n",
       "      <td>0.143044</td>\n",
       "      <td>0.142937</td>\n",
       "      <td>0</td>\n",
       "      <td>0</td>\n",
       "      <td>0</td>\n",
       "      <td>1</td>\n",
       "      <td>0</td>\n",
       "      <td>0</td>\n",
       "      <td>0</td>\n",
       "    </tr>\n",
       "    <tr>\n",
       "      <th>3</th>\n",
       "      <td>0.745644</td>\n",
       "      <td>0.877082</td>\n",
       "      <td>0.505125</td>\n",
       "      <td>0.143032</td>\n",
       "      <td>0.915892</td>\n",
       "      <td>0.143081</td>\n",
       "      <td>0.995109</td>\n",
       "      <td>1</td>\n",
       "      <td>1</td>\n",
       "      <td>1</td>\n",
       "      <td>0</td>\n",
       "      <td>1</td>\n",
       "      <td>0</td>\n",
       "      <td>1</td>\n",
       "    </tr>\n",
       "    <tr>\n",
       "      <th>4</th>\n",
       "      <td>0.616349</td>\n",
       "      <td>0.143119</td>\n",
       "      <td>2.084846</td>\n",
       "      <td>0.144372</td>\n",
       "      <td>0.143003</td>\n",
       "      <td>0.142858</td>\n",
       "      <td>0.142857</td>\n",
       "      <td>1</td>\n",
       "      <td>0</td>\n",
       "      <td>1</td>\n",
       "      <td>0</td>\n",
       "      <td>0</td>\n",
       "      <td>0</td>\n",
       "      <td>0</td>\n",
       "    </tr>\n",
       "  </tbody>\n",
       "</table>\n",
       "</div>"
      ],
      "text/plain": [
       "          0         1         2         3         4         5         6  \\\n",
       "0  0.142886  1.727615  0.700000  0.142895  0.143552  0.143439  0.142879   \n",
       "1  0.143131  0.143377  0.143037  0.800068  3.188810  0.142937  0.143284   \n",
       "2  0.142903  0.143724  0.143138  2.557317  0.143421  0.143044  0.142937   \n",
       "3  0.745644  0.877082  0.505125  0.143032  0.915892  0.143081  0.995109   \n",
       "4  0.616349  0.143119  2.084846  0.144372  0.143003  0.142858  0.142857   \n",
       "\n",
       "   Helps be succesful  Support  Installation and Enhancements  Pricing  \\\n",
       "0                   0        1                              1        0   \n",
       "1                   0        0                              0        1   \n",
       "2                   0        0                              0        1   \n",
       "3                   1        1                              1        0   \n",
       "4                   1        0                              1        0   \n",
       "\n",
       "   Acount Team Mgt  Flexibility: release and licensing  \\\n",
       "0                0                                   0   \n",
       "1                1                                   0   \n",
       "2                0                                   0   \n",
       "3                1                                   0   \n",
       "4                0                                   0   \n",
       "\n",
       "   Upgrades and Implementation  \n",
       "0                            0  \n",
       "1                            0  \n",
       "2                            0  \n",
       "3                            1  \n",
       "4                            0  "
      ]
     },
     "execution_count": 49,
     "metadata": {},
     "output_type": "execute_result"
    }
   ],
   "source": [
    "test1.head()"
   ]
  },
  {
   "cell_type": "code",
   "execution_count": 50,
   "metadata": {
    "collapsed": false
   },
   "outputs": [],
   "source": [
    "test1['n_topics'] = test.ix[: , 8:].sum(axis=1) "
   ]
  },
  {
   "cell_type": "code",
   "execution_count": 51,
   "metadata": {
    "collapsed": false
   },
   "outputs": [
    {
     "data": {
      "text/html": [
       "<div>\n",
       "<table border=\"1\" class=\"dataframe\">\n",
       "  <thead>\n",
       "    <tr style=\"text-align: right;\">\n",
       "      <th></th>\n",
       "      <th>0</th>\n",
       "      <th>1</th>\n",
       "      <th>2</th>\n",
       "      <th>3</th>\n",
       "      <th>4</th>\n",
       "      <th>5</th>\n",
       "      <th>6</th>\n",
       "      <th>Helps be succesful</th>\n",
       "      <th>Support</th>\n",
       "      <th>Installation and Enhancements</th>\n",
       "      <th>Pricing</th>\n",
       "      <th>Acount Team Mgt</th>\n",
       "      <th>Flexibility: release and licensing</th>\n",
       "      <th>Upgrades and Implementation</th>\n",
       "      <th>n_topics</th>\n",
       "    </tr>\n",
       "  </thead>\n",
       "  <tbody>\n",
       "    <tr>\n",
       "      <th>0</th>\n",
       "      <td>0.142886</td>\n",
       "      <td>1.727615</td>\n",
       "      <td>0.700000</td>\n",
       "      <td>0.142895</td>\n",
       "      <td>0.143552</td>\n",
       "      <td>0.143439</td>\n",
       "      <td>0.142879</td>\n",
       "      <td>0</td>\n",
       "      <td>1</td>\n",
       "      <td>1</td>\n",
       "      <td>0</td>\n",
       "      <td>0</td>\n",
       "      <td>0</td>\n",
       "      <td>0</td>\n",
       "      <td>2</td>\n",
       "    </tr>\n",
       "    <tr>\n",
       "      <th>1</th>\n",
       "      <td>0.143131</td>\n",
       "      <td>0.143377</td>\n",
       "      <td>0.143037</td>\n",
       "      <td>0.800068</td>\n",
       "      <td>3.188810</td>\n",
       "      <td>0.142937</td>\n",
       "      <td>0.143284</td>\n",
       "      <td>0</td>\n",
       "      <td>0</td>\n",
       "      <td>0</td>\n",
       "      <td>1</td>\n",
       "      <td>1</td>\n",
       "      <td>0</td>\n",
       "      <td>0</td>\n",
       "      <td>2</td>\n",
       "    </tr>\n",
       "    <tr>\n",
       "      <th>2</th>\n",
       "      <td>0.142903</td>\n",
       "      <td>0.143724</td>\n",
       "      <td>0.143138</td>\n",
       "      <td>2.557317</td>\n",
       "      <td>0.143421</td>\n",
       "      <td>0.143044</td>\n",
       "      <td>0.142937</td>\n",
       "      <td>0</td>\n",
       "      <td>0</td>\n",
       "      <td>0</td>\n",
       "      <td>1</td>\n",
       "      <td>0</td>\n",
       "      <td>0</td>\n",
       "      <td>0</td>\n",
       "      <td>1</td>\n",
       "    </tr>\n",
       "    <tr>\n",
       "      <th>3</th>\n",
       "      <td>0.745644</td>\n",
       "      <td>0.877082</td>\n",
       "      <td>0.505125</td>\n",
       "      <td>0.143032</td>\n",
       "      <td>0.915892</td>\n",
       "      <td>0.143081</td>\n",
       "      <td>0.995109</td>\n",
       "      <td>1</td>\n",
       "      <td>1</td>\n",
       "      <td>1</td>\n",
       "      <td>0</td>\n",
       "      <td>1</td>\n",
       "      <td>0</td>\n",
       "      <td>1</td>\n",
       "      <td>4</td>\n",
       "    </tr>\n",
       "    <tr>\n",
       "      <th>4</th>\n",
       "      <td>0.616349</td>\n",
       "      <td>0.143119</td>\n",
       "      <td>2.084846</td>\n",
       "      <td>0.144372</td>\n",
       "      <td>0.143003</td>\n",
       "      <td>0.142858</td>\n",
       "      <td>0.142857</td>\n",
       "      <td>1</td>\n",
       "      <td>0</td>\n",
       "      <td>1</td>\n",
       "      <td>0</td>\n",
       "      <td>0</td>\n",
       "      <td>0</td>\n",
       "      <td>0</td>\n",
       "      <td>1</td>\n",
       "    </tr>\n",
       "  </tbody>\n",
       "</table>\n",
       "</div>"
      ],
      "text/plain": [
       "          0         1         2         3         4         5         6  \\\n",
       "0  0.142886  1.727615  0.700000  0.142895  0.143552  0.143439  0.142879   \n",
       "1  0.143131  0.143377  0.143037  0.800068  3.188810  0.142937  0.143284   \n",
       "2  0.142903  0.143724  0.143138  2.557317  0.143421  0.143044  0.142937   \n",
       "3  0.745644  0.877082  0.505125  0.143032  0.915892  0.143081  0.995109   \n",
       "4  0.616349  0.143119  2.084846  0.144372  0.143003  0.142858  0.142857   \n",
       "\n",
       "   Helps be succesful  Support  Installation and Enhancements  Pricing  \\\n",
       "0                   0        1                              1        0   \n",
       "1                   0        0                              0        1   \n",
       "2                   0        0                              0        1   \n",
       "3                   1        1                              1        0   \n",
       "4                   1        0                              1        0   \n",
       "\n",
       "   Acount Team Mgt  Flexibility: release and licensing  \\\n",
       "0                0                                   0   \n",
       "1                1                                   0   \n",
       "2                0                                   0   \n",
       "3                1                                   0   \n",
       "4                0                                   0   \n",
       "\n",
       "   Upgrades and Implementation  n_topics  \n",
       "0                            0         2  \n",
       "1                            0         2  \n",
       "2                            0         1  \n",
       "3                            1         4  \n",
       "4                            0         1  "
      ]
     },
     "execution_count": 51,
     "metadata": {},
     "output_type": "execute_result"
    }
   ],
   "source": [
    "test1.head()"
   ]
  },
  {
   "cell_type": "code",
   "execution_count": null,
   "metadata": {
    "collapsed": true
   },
   "outputs": [],
   "source": []
  },
  {
   "cell_type": "code",
   "execution_count": 52,
   "metadata": {
    "collapsed": false
   },
   "outputs": [
    {
     "data": {
      "text/plain": [
       "2    1172\n",
       "1    1152\n",
       "3     578\n",
       "0     235\n",
       "4     141\n",
       "5      16\n",
       "6       1\n",
       "Name: n_topics, dtype: int64"
      ]
     },
     "execution_count": 52,
     "metadata": {},
     "output_type": "execute_result"
    }
   ],
   "source": [
    "test1['n_topics'].value_counts()"
   ]
  },
  {
   "cell_type": "markdown",
   "metadata": {},
   "source": [
    "8% of comments don't have a topic"
   ]
  },
  {
   "cell_type": "code",
   "execution_count": 53,
   "metadata": {
    "collapsed": false
   },
   "outputs": [],
   "source": [
    "test1=test1[['Helps be succesful', 'Support', 'Installation and Enhancements', 'Pricing', 'Acount Team Mgt',\n",
    "              'Flexibility: release and licensing', \n",
    "              'Upgrades and Implementation', 'n_topics']]"
   ]
  },
  {
   "cell_type": "code",
   "execution_count": 54,
   "metadata": {
    "collapsed": false
   },
   "outputs": [],
   "source": [
    "df_new1=df_new.join(test1)"
   ]
  },
  {
   "cell_type": "code",
   "execution_count": 55,
   "metadata": {
    "collapsed": false
   },
   "outputs": [
    {
     "data": {
      "text/html": [
       "<div>\n",
       "<table border=\"1\" class=\"dataframe\">\n",
       "  <thead>\n",
       "    <tr style=\"text-align: right;\">\n",
       "      <th></th>\n",
       "      <th>email</th>\n",
       "      <th>sentence</th>\n",
       "      <th>clusters</th>\n",
       "      <th>clusters1</th>\n",
       "      <th>Helps be succesful</th>\n",
       "      <th>Support</th>\n",
       "      <th>Installation and Enhancements</th>\n",
       "      <th>Pricing</th>\n",
       "      <th>Acount Team Mgt</th>\n",
       "      <th>Flexibility: release and licensing</th>\n",
       "      <th>Upgrades and Implementation</th>\n",
       "      <th>n_topics</th>\n",
       "    </tr>\n",
       "  </thead>\n",
       "  <tbody>\n",
       "    <tr>\n",
       "      <th>0</th>\n",
       "      <td>jmccullough3@csc.com</td>\n",
       "      <td>Better execution on production integration and ease of reporting</td>\n",
       "      <td>3</td>\n",
       "      <td>0</td>\n",
       "      <td>0</td>\n",
       "      <td>1</td>\n",
       "      <td>1</td>\n",
       "      <td>0</td>\n",
       "      <td>0</td>\n",
       "      <td>0</td>\n",
       "      <td>0</td>\n",
       "      <td>2</td>\n",
       "    </tr>\n",
       "    <tr>\n",
       "      <th>1</th>\n",
       "      <td>4254.jgodoy@bradesco.com.br</td>\n",
       "      <td>the report says that this questionnaire can answer it until 22/06, but is allowing me to continue to fill it - lowering prices of their solutions - reduce solution times of your technical support team through the Support Center (formal processes) - availa</td>\n",
       "      <td>2</td>\n",
       "      <td>1</td>\n",
       "      <td>0</td>\n",
       "      <td>0</td>\n",
       "      <td>0</td>\n",
       "      <td>1</td>\n",
       "      <td>1</td>\n",
       "      <td>0</td>\n",
       "      <td>0</td>\n",
       "      <td>2</td>\n",
       "    </tr>\n",
       "    <tr>\n",
       "      <th>2</th>\n",
       "      <td>Anandv78@gmail.com</td>\n",
       "      <td>We have been using the solution provided by  CA Technologies in a  critical function.</td>\n",
       "      <td>1</td>\n",
       "      <td>0</td>\n",
       "      <td>0</td>\n",
       "      <td>0</td>\n",
       "      <td>0</td>\n",
       "      <td>1</td>\n",
       "      <td>0</td>\n",
       "      <td>0</td>\n",
       "      <td>0</td>\n",
       "      <td>1</td>\n",
       "    </tr>\n",
       "    <tr>\n",
       "      <th>3</th>\n",
       "      <td>Anandv78@gmail.com</td>\n",
       "      <td>The one single area which requires immediate attention is to ensure overall improvement in support levels and timely response to organisational requirements.</td>\n",
       "      <td>0</td>\n",
       "      <td>0</td>\n",
       "      <td>1</td>\n",
       "      <td>1</td>\n",
       "      <td>1</td>\n",
       "      <td>0</td>\n",
       "      <td>1</td>\n",
       "      <td>0</td>\n",
       "      <td>1</td>\n",
       "      <td>4</td>\n",
       "    </tr>\n",
       "    <tr>\n",
       "      <th>4</th>\n",
       "      <td>Anandv78@gmail.com</td>\n",
       "      <td>Our experience has been very poor with prolonged resolutions for critical issues raised.</td>\n",
       "      <td>0</td>\n",
       "      <td>0</td>\n",
       "      <td>1</td>\n",
       "      <td>0</td>\n",
       "      <td>1</td>\n",
       "      <td>0</td>\n",
       "      <td>0</td>\n",
       "      <td>0</td>\n",
       "      <td>0</td>\n",
       "      <td>1</td>\n",
       "    </tr>\n",
       "  </tbody>\n",
       "</table>\n",
       "</div>"
      ],
      "text/plain": [
       "                         email  \\\n",
       "0         jmccullough3@csc.com   \n",
       "1  4254.jgodoy@bradesco.com.br   \n",
       "2           Anandv78@gmail.com   \n",
       "3           Anandv78@gmail.com   \n",
       "4           Anandv78@gmail.com   \n",
       "\n",
       "                                                                                                                                                                                                                                                          sentence  \\\n",
       "0                                                                                                                                                                                                 Better execution on production integration and ease of reporting   \n",
       "1  the report says that this questionnaire can answer it until 22/06, but is allowing me to continue to fill it - lowering prices of their solutions - reduce solution times of your technical support team through the Support Center (formal processes) - availa   \n",
       "2                                                                                                                                                                            We have been using the solution provided by  CA Technologies in a  critical function.   \n",
       "3                                                                                                    The one single area which requires immediate attention is to ensure overall improvement in support levels and timely response to organisational requirements.   \n",
       "4                                                                                                                                                                         Our experience has been very poor with prolonged resolutions for critical issues raised.   \n",
       "\n",
       "   clusters  clusters1  Helps be succesful  Support  \\\n",
       "0         3          0                   0        1   \n",
       "1         2          1                   0        0   \n",
       "2         1          0                   0        0   \n",
       "3         0          0                   1        1   \n",
       "4         0          0                   1        0   \n",
       "\n",
       "   Installation and Enhancements  Pricing  Acount Team Mgt  \\\n",
       "0                              1        0                0   \n",
       "1                              0        1                1   \n",
       "2                              0        1                0   \n",
       "3                              1        0                1   \n",
       "4                              1        0                0   \n",
       "\n",
       "   Flexibility: release and licensing  Upgrades and Implementation  n_topics  \n",
       "0                                   0                            0         2  \n",
       "1                                   0                            0         2  \n",
       "2                                   0                            0         1  \n",
       "3                                   0                            1         4  \n",
       "4                                   0                            0         1  "
      ]
     },
     "execution_count": 55,
     "metadata": {},
     "output_type": "execute_result"
    }
   ],
   "source": [
    "df_new1.head()"
   ]
  },
  {
   "cell_type": "code",
   "execution_count": 56,
   "metadata": {
    "collapsed": false
   },
   "outputs": [
    {
     "data": {
      "text/plain": [
       "2    1172\n",
       "1    1152\n",
       "3     578\n",
       "0     235\n",
       "4     141\n",
       "5      16\n",
       "6       1\n",
       "Name: n_topics, dtype: int64"
      ]
     },
     "execution_count": 56,
     "metadata": {},
     "output_type": "execute_result"
    }
   ],
   "source": [
    "df_new1['n_topics'].value_counts()"
   ]
  },
  {
   "cell_type": "code",
   "execution_count": 65,
   "metadata": {
    "collapsed": false
   },
   "outputs": [
    {
     "data": {
      "text/plain": [
       "0    2509\n",
       "1     786\n",
       "Name: Helps be succesful, dtype: int64"
      ]
     },
     "execution_count": 65,
     "metadata": {},
     "output_type": "execute_result"
    }
   ],
   "source": [
    "df_new1['Helps be succesful'].value_counts()"
   ]
  },
  {
   "cell_type": "code",
   "execution_count": 66,
   "metadata": {
    "collapsed": false
   },
   "outputs": [
    {
     "data": {
      "text/plain": [
       "0    2372\n",
       "1     923\n",
       "Name: Installation and Enhancements, dtype: int64"
      ]
     },
     "execution_count": 66,
     "metadata": {},
     "output_type": "execute_result"
    }
   ],
   "source": [
    "df_new1['Installation and Enhancements'].value_counts()"
   ]
  },
  {
   "cell_type": "code",
   "execution_count": 57,
   "metadata": {
    "collapsed": false
   },
   "outputs": [
    {
     "data": {
      "text/plain": [
       "0    2215\n",
       "1    1080\n",
       "Name: Acount Team Mgt, dtype: int64"
      ]
     },
     "execution_count": 57,
     "metadata": {},
     "output_type": "execute_result"
    }
   ],
   "source": [
    "df_new1['Acount Team Mgt'].value_counts()"
   ]
  },
  {
   "cell_type": "code",
   "execution_count": 58,
   "metadata": {
    "collapsed": false
   },
   "outputs": [
    {
     "data": {
      "text/plain": [
       "0    2307\n",
       "1     988\n",
       "Name: Pricing, dtype: int64"
      ]
     },
     "execution_count": 58,
     "metadata": {},
     "output_type": "execute_result"
    }
   ],
   "source": [
    "df_new1['Pricing'].value_counts()"
   ]
  },
  {
   "cell_type": "code",
   "execution_count": 59,
   "metadata": {
    "collapsed": false
   },
   "outputs": [
    {
     "data": {
      "text/plain": [
       "0    2544\n",
       "1     751\n",
       "Name: Flexibility: release and licensing, dtype: int64"
      ]
     },
     "execution_count": 59,
     "metadata": {},
     "output_type": "execute_result"
    }
   ],
   "source": [
    "df_new1['Flexibility: release and licensing'].value_counts()"
   ]
  },
  {
   "cell_type": "code",
   "execution_count": 60,
   "metadata": {
    "collapsed": false
   },
   "outputs": [
    {
     "data": {
      "text/plain": [
       "0    2127\n",
       "1    1168\n",
       "Name: Support, dtype: int64"
      ]
     },
     "execution_count": 60,
     "metadata": {},
     "output_type": "execute_result"
    }
   ],
   "source": [
    "df_new1['Support'].value_counts()"
   ]
  },
  {
   "cell_type": "code",
   "execution_count": 61,
   "metadata": {
    "collapsed": false
   },
   "outputs": [
    {
     "data": {
      "text/plain": [
       "0    2325\n",
       "1     970\n",
       "Name: Upgrades and Implementation, dtype: int64"
      ]
     },
     "execution_count": 61,
     "metadata": {},
     "output_type": "execute_result"
    }
   ],
   "source": [
    "df_new1['Upgrades and Implementation'].value_counts()"
   ]
  },
  {
   "cell_type": "code",
   "execution_count": 62,
   "metadata": {
    "collapsed": false
   },
   "outputs": [
    {
     "data": {
      "text/plain": [
       "0    2544\n",
       "1     751\n",
       "Name: Flexibility: release and licensing, dtype: int64"
      ]
     },
     "execution_count": 62,
     "metadata": {},
     "output_type": "execute_result"
    }
   ],
   "source": [
    "df_new1['Flexibility: release and licensing'].value_counts()"
   ]
  },
  {
   "cell_type": "code",
   "execution_count": 63,
   "metadata": {
    "collapsed": false
   },
   "outputs": [
    {
     "data": {
      "text/plain": [
       "0    2325\n",
       "1     970\n",
       "Name: Upgrades and Implementation, dtype: int64"
      ]
     },
     "execution_count": 63,
     "metadata": {},
     "output_type": "execute_result"
    }
   ],
   "source": [
    "df_new1['Upgrades and Implementation'].value_counts()"
   ]
  },
  {
   "cell_type": "code",
   "execution_count": null,
   "metadata": {
    "collapsed": false
   },
   "outputs": [],
   "source": [
    "from vaderSentiment.vaderSentiment import sentiment as vaderSentiment"
   ]
  },
  {
   "cell_type": "code",
   "execution_count": null,
   "metadata": {
    "collapsed": true
   },
   "outputs": [],
   "source": [
    "def compound(row):\n",
    "    return(vaderSentiment(row)['compound'])"
   ]
  },
  {
   "cell_type": "code",
   "execution_count": null,
   "metadata": {
    "collapsed": false
   },
   "outputs": [],
   "source": [
    "df_new1['compound']= df_new1['sentence'].apply(compound)"
   ]
  },
  {
   "cell_type": "code",
   "execution_count": null,
   "metadata": {
    "collapsed": false
   },
   "outputs": [],
   "source": [
    "df_new1['compound'].describe()"
   ]
  },
  {
   "cell_type": "code",
   "execution_count": null,
   "metadata": {
    "collapsed": false
   },
   "outputs": [],
   "source": [
    "df_new1"
   ]
  },
  {
   "cell_type": "code",
   "execution_count": null,
   "metadata": {
    "collapsed": false
   },
   "outputs": [],
   "source": [
    "df_new1.sort('compound')"
   ]
  },
  {
   "cell_type": "code",
   "execution_count": null,
   "metadata": {
    "collapsed": true
   },
   "outputs": [],
   "source": [
    "df_new1.to_csv(\"test.csv\")"
   ]
  },
  {
   "cell_type": "code",
   "execution_count": null,
   "metadata": {
    "collapsed": false
   },
   "outputs": [],
   "source": [
    "test12=df_new1['sentence'].tolist()"
   ]
  },
  {
   "cell_type": "code",
   "execution_count": null,
   "metadata": {
    "collapsed": false
   },
   "outputs": [],
   "source": [
    "vaderSentiment(df_new1['sentence'][10])"
   ]
  },
  {
   "cell_type": "code",
   "execution_count": null,
   "metadata": {
    "collapsed": false
   },
   "outputs": [],
   "source": [
    "for a in test12:\n",
    "    print vaderSentiment(a)['compound']"
   ]
  },
  {
   "cell_type": "code",
   "execution_count": null,
   "metadata": {
    "collapsed": true
   },
   "outputs": [],
   "source": []
  },
  {
   "cell_type": "code",
   "execution_count": null,
   "metadata": {
    "collapsed": false
   },
   "outputs": [],
   "source": [
    "df_new1.head()"
   ]
  },
  {
   "cell_type": "code",
   "execution_count": null,
   "metadata": {
    "collapsed": false
   },
   "outputs": [],
   "source": [
    "df_new1['sentence'][0]"
   ]
  },
  {
   "cell_type": "code",
   "execution_count": null,
   "metadata": {
    "collapsed": false
   },
   "outputs": [],
   "source": [
    "from os import path\n",
    "from wordcloud import WordCloud\n",
    "\n",
    "\n",
    "# Read the whole text.\n",
    "text = open(('feature_df.csv')).read()\n",
    "\n",
    "# Generate a word cloud image\n",
    "wordcloud = WordCloud().generate(text)\n",
    "\n",
    "# Display the generated image:\n",
    "# the matplotlib way:\n",
    "import matplotlib.pyplot as plt\n",
    "plt.imshow(wordcloud)\n",
    "plt.axis(\"off\")\n",
    "\n",
    "# take relative word frequencies into account, lower max_font_size\n",
    "wordcloud = WordCloud(max_font_size=40, relative_scaling=.5).generate(text)\n",
    "plt.figure()\n",
    "plt.imshow(wordcloud)\n",
    "plt.axis(\"off\")\n",
    "plt.show()\n"
   ]
  },
  {
   "cell_type": "code",
   "execution_count": null,
   "metadata": {
    "collapsed": false
   },
   "outputs": [],
   "source": []
  },
  {
   "cell_type": "code",
   "execution_count": null,
   "metadata": {
    "collapsed": true
   },
   "outputs": [],
   "source": []
  }
 ],
 "metadata": {
  "kernelspec": {
   "display_name": "Python 2",
   "language": "python",
   "name": "python2"
  },
  "language_info": {
   "codemirror_mode": {
    "name": "ipython",
    "version": 2
   },
   "file_extension": ".py",
   "mimetype": "text/x-python",
   "name": "python",
   "nbconvert_exporter": "python",
   "pygments_lexer": "ipython2",
   "version": "2.7.11"
  }
 },
 "nbformat": 4,
 "nbformat_minor": 0
}
